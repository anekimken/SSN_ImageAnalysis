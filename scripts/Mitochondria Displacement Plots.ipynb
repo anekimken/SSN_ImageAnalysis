{
 "cells": [
  {
   "cell_type": "markdown",
   "metadata": {},
   "source": [
    "# Mitochondria Displacement Plots\n",
    "Script that goes through analyzed data and makes plots of mitochondria displacements\n",
    "### File location parameters"
   ]
  },
  {
   "cell_type": "code",
   "execution_count": 1,
   "metadata": {},
   "outputs": [],
   "source": [
    "analyzed_data_dir = '/Users/adam/Documents/SenseOfTouchResearch/SSN_ImageAnalysis/AnalyzedData/'"
   ]
  },
  {
   "cell_type": "markdown",
   "metadata": {},
   "source": [
    "### Import packages"
   ]
  },
  {
   "cell_type": "code",
   "execution_count": 2,
   "metadata": {},
   "outputs": [],
   "source": [
    "import yaml\n",
    "import pandas as pd\n",
    "import matplotlib as mpl\n",
    "import matplotlib.pyplot as plt\n",
    "from scipy.spatial import distance\n",
    "import warnings\n",
    "import glob\n",
    "import numpy as np\n",
    "import typing"
   ]
  },
  {
   "cell_type": "markdown",
   "metadata": {},
   "source": [
    "### Functions for creating dataframes"
   ]
  },
  {
   "cell_type": "code",
   "execution_count": 3,
   "metadata": {},
   "outputs": [],
   "source": [
    "def get_experiment_df(analyzed_data_dir):\n",
    "    experiment_days = glob.iglob(analyzed_data_dir + '*')\n",
    "    all_metadata = []\n",
    "    for day in experiment_days:\n",
    "        try:\n",
    "            with open(day + '/metadata.yaml') as metadata_file:\n",
    "                all_metadata.append(yaml.safe_load(metadata_file))\n",
    "        except FileNotFoundError:\n",
    "            pass\n",
    "\n",
    "    metadata_df = pd.DataFrame(all_metadata)\n",
    "    \n",
    "    return metadata_df\n",
    "\n",
    "\n",
    "# def make_trial_df(experiment_id, all_metadata):\n",
    "#     metadata = all_metadata.loc[all_metadata['Experiment_id'] == experiment_id]\n",
    "#     mito_locations_file = analyzed_data_dir + experiment_id + '/trackpyBatchResults.yaml'\n",
    "#     with open(mito_locations_file, 'r') as yamlfile:\n",
    "#         mito_locations = yaml.safe_load(yamlfile)\n",
    "\n",
    "#     linked_mitos = pd.DataFrame.from_dict(mito_locations, orient='index')\n",
    "#     mito_locations = linked_mitos.loc[:, ['frame', 'particle', 'x', 'y', 'z']]\n",
    "    \n",
    "#     mito_locations['pressure'] = mito_locations.apply(\n",
    "#         lambda row: get_pressure_this_mito(row), axis=1)\n",
    "    \n",
    "#     mito_locations['x_rest'] = mito_locations.apply(\n",
    "#         lambda row: get_rest_location(row['particle'], 'x'), axis=1)\n",
    "#     mito_locations['y_rest'] = mito_locations.apply(\n",
    "#         lambda row: get_rest_location(row['particle'], 'y'), axis=1)\n",
    "#     mito_locations['z_rest'] = mito_locations.apply(\n",
    "#         lambda row: get_rest_location(row['particle'], 'z'), axis=1)\n",
    "\n",
    "#     return mito_locations\n",
    "\n",
    "\n",
    "# def make_mito_pair_df(mito_locations_df):\n",
    "#     mito_pairs_dicts = []\n",
    "#     for frame in mito_locations.frame.unique():\n",
    "#         this_frame = mito_locations.loc[(mito_locations['frame'] == frame)]\n",
    "#         this_frame.sort_values(by=['y'], inplace=True)\n",
    "#         this_frame.reset_index(inplace=True)\n",
    "#         # make dataframe of adjacent mitos\n",
    "#         for this_particle in range(mito_locations.particle.nunique() - 1):\n",
    "#             x_1 = this_frame.iloc[this_particle]['x']\n",
    "#             x_2 = this_frame.iloc[this_particle + 1]['x']\n",
    "#             x_dist = abs(x_2 - x_1)\n",
    "\n",
    "#             y_1 = this_frame.iloc[this_particle]['y']\n",
    "#             y_2 = this_frame.iloc[this_particle + 1]['y']\n",
    "#             y_dist = abs(y_2 - y_1)\n",
    "\n",
    "#             z_1 = this_frame.iloc[this_particle]['z']\n",
    "#             z_2 = this_frame.iloc[this_particle + 1]['z']\n",
    "#             z_dist = abs(z_2 - z_1)\n",
    "\n",
    "#             total_dist = distance.euclidean([x_1, y_1, z_1], [x_2, y_2, z_2])\n",
    "\n",
    "#             particle_1 = int(this_frame.iloc[this_particle]['particle'])\n",
    "#             particle_2 = int(this_frame.iloc[this_particle + 1]['particle'])\n",
    "\n",
    "#             mito_pairs_dicts.append({'x_dist': x_dist, 'x_1': x_1, 'x_2': x_2,\n",
    "#                                      'y_dist': y_dist, 'y_1': y_1, 'y_2': y_2,\n",
    "#                                      'z_dist': z_dist, 'z_1': z_1, 'z_2': z_2,\n",
    "#                                      'particle_1': particle_1,\n",
    "#                                      'particle_2': particle_2,\n",
    "#                                      'total_dist': total_dist, 'frame': frame,\n",
    "#                                      'pair_id': this_particle})\n",
    "\n",
    "#     mito_pairs = pd.DataFrame(mito_pairs_dicts)\n",
    "#     mito_pairs['pressure'] = mito_pairs.apply(lambda row: get_pressure_this_mito(row), axis=1)\n",
    "    \n",
    "#     mito_pairs['rest_dist'] = mito_pairs.apply(\n",
    "#         lambda pair: get_rest_distance(pair['pair_id'], 'euclid'), axis=1)\n",
    "#     mito_pairs['x_rest_dist'] = mito_pairs.apply(\n",
    "#         lambda pair: get_rest_distance(pair['pair_id'], 'x'), axis=1)\n",
    "#     mito_pairs['y_rest_dist'] = mito_pairs.apply(\n",
    "#         lambda pair: get_rest_distance(pair['pair_id'], 'y'), axis=1)\n",
    "#     mito_pairs['z_rest_dist'] = mito_pairs.apply(\n",
    "#         lambda pair: get_rest_distance(pair['pair_id'], 'z'), axis=1)\n",
    "\n",
    "#     mito_pairs['strain'] = ((mito_pairs['total_dist'] - mito_pairs['rest_dist'])\n",
    "#                         / mito_pairs['rest_dist'])\n",
    "#     mito_pairs['x_strain'] = ((mito_pairs['x_dist'] - mito_pairs['x_rest_dist'])\n",
    "#                           / mito_pairs['x_rest_dist'])\n",
    "#     mito_pairs['y_strain'] = ((mito_pairs['y_dist'] - mito_pairs['y_rest_dist'])\n",
    "#                           / mito_pairs['y_rest_dist'])\n",
    "#     mito_pairs['z_strain'] = ((mito_pairs['z_dist'] - mito_pairs['z_rest_dist'])\n",
    "#                           / mito_pairs['z_rest_dist'])\n",
    "\n",
    "#     return mito_pairs"
   ]
  },
  {
   "cell_type": "markdown",
   "metadata": {},
   "source": [
    "### Functions for manipulating dataframes"
   ]
  },
  {
   "cell_type": "code",
   "execution_count": 4,
   "metadata": {},
   "outputs": [],
   "source": [
    "def calc_x_distance(row):\n",
    "    return distance.euclidean([row['x']], [row['x_rest']])\n",
    "\n",
    "def calc_xz_distance(row):\n",
    "    return distance.euclidean([row['x'], row['z']], [row['x_rest'], row['z_rest']])\n",
    "\n",
    "def calc_xyz_distance(row):\n",
    "    return distance.euclidean([row['x'], row['y'], row['z']], [row['x_rest'],  row['y_rest'], row['z_rest']])"
   ]
  },
  {
   "cell_type": "markdown",
   "metadata": {},
   "source": [
    "### Function for plotting"
   ]
  },
  {
   "cell_type": "code",
   "execution_count": 5,
   "metadata": {},
   "outputs": [],
   "source": [
    "def plot_strain_centered_on_actuator(strain_df: pd.DataFrame,\n",
    "                                   linked_mitos_df: pd.DataFrame,\n",
    "                                   metadata_df: pd.DataFrame) -> pd.DataFrame:\n",
    "    actuator_center_coords = metadata_df['actuator_center'].apply(pd.Series).stack()\n",
    "#     temp_dict = []\n",
    "#         for i in range(len(strain)):\n",
    "#             for j in range(len(strain[0])):\n",
    "#                 temp_dict.append({'strain': strain[i][j],\n",
    "#                                   'ycoords': ycoords[i][j],\n",
    "#                                   'pressure': pressure[i],\n",
    "#                                   'stack_num': i})\n",
    "#                 index += 1   \n",
    "    y_vals = []\n",
    "    for index, row in strain_df.iterrows():\n",
    "        particle = row['particle_1']\n",
    "        frame = row['frame']\n",
    "        \n",
    "        y_vals.append(float(linked_mitos_df.loc[(linked_mitos_df['particle'] == particle) &\n",
    "                                    (linked_mitos_df['frame'] == frame)]['y']) - actuator_center_coords[1])\n",
    "    strain_df['y_vals'] = pd.Series(y_vals)\n",
    "\n",
    "    fig, ax = plt.subplots()\n",
    "    strain_df.loc[strain_df['pressure'] == 0].groupby(['frame']).plot(\n",
    "                x='y_vals', y='strain',\n",
    "                color='red', drawstyle=\"steps\", ax=ax)\n",
    "    strain_df.loc[strain_df['pressure'] == 300].groupby(['frame']).plot(\n",
    "                x='y_vals', y='strain',\n",
    "                color='green', drawstyle=\"steps\", ax=ax)\n",
    "    \n",
    "def plot_disp_centered_on_actuator(linked_mitos_df: pd.DataFrame,\n",
    "                                   metadata_df: pd.DataFrame,\n",
    "                                   disp_component: str,\n",
    "                                   ax: mpl.axes.Axes=None):\n",
    "    actuator_center_coords = metadata_df['actuator_center'].apply(pd.Series).stack()\n",
    "    linked_mitos_df['corrected_y'] = linked_mitos_df['y'] - actuator_center_coords[1]\n",
    "    linked_mitos_df['x_disp'] = linked_mitos_df.apply(calc_x_distance, axis=1)\n",
    "    linked_mitos_df['xz_disp'] = linked_mitos_df.apply(calc_xz_distance, axis=1)\n",
    "    linked_mitos_df['xyz_disp'] = linked_mitos_df.apply(calc_xyz_distance, axis=1)\n",
    "    \n",
    "    plot_vals = disp_component + '_disp'\n",
    "    \n",
    "    if ax is None:\n",
    "        fig, ax = plt.subplots()\n",
    "    linked_mitos_df.loc[linked_mitos_df['pressure'] == 0].groupby(['frame']).plot(\n",
    "                x='corrected_y', y=plot_vals,\n",
    "                color='red', kind='scatter', ax=ax)\n",
    "    linked_mitos_df.loc[linked_mitos_df['pressure'] == 300].groupby(['frame']).plot(\n",
    "                x='corrected_y', y=plot_vals,\n",
    "                color='green', kind='scatter', ax=ax)"
   ]
  },
  {
   "cell_type": "code",
   "execution_count": 6,
   "metadata": {},
   "outputs": [
    {
     "data": {
      "image/png": "[encoded data removed]",
      "text/plain": [
       "<Figure size 432x288 with 1 Axes>"
      ]
     },
     "metadata": {
      "needs_background": "light"
     },
     "output_type": "display_data"
    }
   ],
   "source": [
    "# get all the metadata\n",
    "all_metadata = get_experiment_df(analyzed_data_dir)\n",
    "# filter out trials we don't want\n",
    "trials_with_strain_and_actuator = all_metadata.loc[(all_metadata['analysis_status'] == 'Strain calculated') & (all_metadata['actuator_center'].notnull())]\n",
    "# make plots for those trials\n",
    "fig, ax = plt.subplots()\n",
    "for index, row in trials_with_strain_and_actuator.iterrows():\n",
    "    experiment_id = row['Experiment_id']\n",
    "    metadata = trials_with_strain_and_actuator.loc[all_metadata['Experiment_id'] == experiment_id]\n",
    "\n",
    "    strain_file = analyzed_data_dir + experiment_id + '/strain.yaml'\n",
    "    with open(strain_file, 'r') as yamlfile:\n",
    "        strain_df = yaml.safe_load(yamlfile)\n",
    "    strain_df = pd.DataFrame(strain_df)\n",
    "\n",
    "    linked_mitos_file = analyzed_data_dir + experiment_id + '/mito_locations.yaml'\n",
    "    with open(linked_mitos_file, 'r') as yamlfile:\n",
    "        linked_mitos_df = yaml.safe_load(yamlfile)\n",
    "    linked_mitos_df = pd.DataFrame.from_dict(linked_mitos_df)\n",
    "\n",
    "    plot_disp_centered_on_actuator(linked_mitos_df, metadata, 'x', ax)\n",
    "#     plot_disp_centered_on_actuator(linked_mitos_df, metadata, 'xz', ax)\n",
    "#     plot_disp_centered_on_actuator(linked_mitos_df, metadata, 'xyz')\n",
    "\n",
    "\n"
   ]
  },
  {
   "cell_type": "markdown",
   "metadata": {},
   "source": [
    "## Testing functions to make sure analysis works properly"
   ]
  },
  {
   "cell_type": "code",
   "execution_count": 7,
   "metadata": {},
   "outputs": [],
   "source": [
    "# import unittest\n",
    "\n",
    "# class TestDataframeBuilders(unittest.TestCase):\n",
    "        \n",
    "#     def setUp(self):\n",
    "#         self.analyzed_data_dir = '/Users/adam/Documents/SenseOfTouchResearch/SSN_ImageAnalysis/AnalyzedData/'\n",
    "#         self.all_metadata = get_experiment_df(self.analyzed_data_dir)\n",
    "#         self.test_cases = 'SSN_120_001'\n",
    "\n",
    "#     def test_make_trial_df(self):\n",
    "#         for exp_id in self.test_cases:\n",
    "#             this_trial_mitos = make_trial_df(exp_id, self.all_metadata)\n",
    "            \n",
    "\n",
    "\n",
    "\n",
    "\n",
    "# unittest.main(argv=[''], verbosity=2, exit=False)"
   ]
  }
 ],
 "metadata": {
  "kernelspec": {
   "display_name": "Python [conda env:spinningDiskAnalysis]",
   "language": "python",
   "name": "conda-env-spinningDiskAnalysis-py"
  },
  "language_info": {
   "codemirror_mode": {
    "name": "ipython",
    "version": 3
   },
   "file_extension": ".py",
   "mimetype": "text/x-python",
   "name": "python",
   "nbconvert_exporter": "python",
   "pygments_lexer": "ipython3",
   "version": "3.6.7"
  }
 },
 "nbformat": 4,
 "nbformat_minor": 2
}
