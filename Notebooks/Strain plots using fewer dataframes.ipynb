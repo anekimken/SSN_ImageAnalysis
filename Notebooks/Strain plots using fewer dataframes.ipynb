{
 "cells": [
  {
   "cell_type": "markdown",
   "metadata": {},
   "source": [
    "# Strain plots using one dataframe\n",
    "In the other Notebook, I use several different dataframes to hold analyzed data, and it's pretty messy. In this Notebook, I want to clean things up and use only a few dataframes:\n",
    "- Metadata from all trials\n",
    "- Mitochondrial position information from all trials\n",
    "    - experiment id\n",
    "    - x, y, z coordinates\n",
    "    - displacement in x, y, and z directions\n",
    "    - particle id\n",
    "    - frame number\n",
    "    - acutation pressure\n",
    "    - worm strain name\n",
    "    - genotype\n",
    "- Pairwise measurements from mitochondria\n",
    "    - experiment id\n",
    "    - pair id\n",
    "    - particle ids\n",
    "    - frame number\n",
    "    - actuation pressure\n",
    "    - worm strain name\n",
    "    - current distance between pairs\n",
    "    - rest distance between pairs\n",
    "    - stretch\n",
    "    - strain"
   ]
  },
  {
   "cell_type": "markdown",
   "metadata": {},
   "source": [
    "## Setup\n",
    "### Choose worm strain and neuron"
   ]
  },
  {
   "cell_type": "code",
   "execution_count": 1,
   "metadata": {},
   "outputs": [],
   "source": [
    "worm_strains = ['NM3573', 'GN885']\n",
    "neurons = ['ALM']\n",
    "\n",
    "allele_dict = {'NM3573': 'wild-type',\n",
    "               'GN885': 'him-4(e1267)',\n",
    "               'GN886': 'mec-1(e1066)',\n",
    "               'GN887': 'mec-1(e1738)'}"
   ]
  },
  {
   "cell_type": "markdown",
   "metadata": {},
   "source": [
    "### Experimental parameters"
   ]
  },
  {
   "cell_type": "code",
   "execution_count": 2,
   "metadata": {},
   "outputs": [],
   "source": [
    "pixel_to_micron = 0.275\n",
    "analyzed_data_dir = '/Users/adam/Documents/SenseOfTouchResearch/SSN_AnalyzedData/'\n",
    "fig_save_dir = analyzed_data_dir + 'PreliminaryPlots/'"
   ]
  },
  {
   "cell_type": "markdown",
   "metadata": {},
   "source": [
    "### Import packages"
   ]
  },
  {
   "cell_type": "code",
   "execution_count": 3,
   "metadata": {},
   "outputs": [],
   "source": [
    "import yaml\n",
    "import time\n",
    "import pandas as pd\n",
    "import matplotlib as mpl\n",
    "import matplotlib.pyplot as plt\n",
    "from scipy.spatial import distance\n",
    "from scipy import stats\n",
    "import math\n",
    "import warnings\n",
    "import glob\n",
    "import numpy as np\n",
    "import typing\n",
    "import pathlib\n",
    "import seaborn as sns\n",
    "import pathlib\n",
    "import line_profiler\n",
    "\n",
    "start = time.time()\n",
    "for current_worm_strain in worm_strains:\n",
    "    for current_neuron in neurons:\n",
    "        current_strain_TRN = current_worm_strain + '_' + current_neuron\n",
    "        fig_path = pathlib.Path(fig_save_dir + current_strain_TRN)\n",
    "        if fig_path.exists() is False:\n",
    "            fig_path.mkdir()"
   ]
  },
  {
   "cell_type": "markdown",
   "metadata": {},
   "source": [
    "## Load all the metadata"
   ]
  },
  {
   "cell_type": "code",
   "execution_count": null,
   "metadata": {},
   "outputs": [],
   "source": [
    "analyzed_trials = glob.iglob(analyzed_data_dir + '*')\n",
    "all_metadata = []\n",
    "for trial in analyzed_trials:\n",
    "    try:\n",
    "        with open(trial + '/metadata.yaml') as metadata_file:\n",
    "            all_metadata.append(yaml.safe_load(metadata_file))\n",
    "    except FileNotFoundError:\n",
    "        pass\n",
    "    except NotADirectoryError:\n",
    "        pass\n",
    "\n",
    "metadata_df = pd.DataFrame(all_metadata)"
   ]
  },
  {
   "cell_type": "markdown",
   "metadata": {},
   "source": [
    "#### Select only the trials that have been successfully processed\n",
    "Also get a count of the number of trials for each genotype"
   ]
  },
  {
   "cell_type": "code",
   "execution_count": null,
   "metadata": {},
   "outputs": [],
   "source": [
    "trials_for_analysis = metadata_df.loc[(metadata_df['analysis_status'] == 'Strain calculated') &\n",
    "                                                   (metadata_df['actuator_center'].notnull()) &\n",
    "                                                   (metadata_df['neuron'].isin(neurons)) &\n",
    "                                                   (metadata_df['worm_strain'].isin(worm_strains))]\n",
    "n_trials_dict = trials_for_analysis['worm_strain'].value_counts().to_dict()"
   ]
  },
  {
   "cell_type": "markdown",
   "metadata": {},
   "source": [
    "## Load mitochondria position data into one Dataframe"
   ]
  },
  {
   "cell_type": "code",
   "execution_count": null,
   "metadata": {},
   "outputs": [],
   "source": [
    "list_of_linked_mito_dfs = []\n",
    "linked_mitos_df = pd.DataFrame()\n",
    "for index, row in trials_for_analysis.iterrows():\n",
    "    experiment_id = row['Experiment_id']\n",
    "    linked_mitos_file = analyzed_data_dir + experiment_id + '/mito_locations.yaml'\n",
    "    with open(linked_mitos_file, 'r') as yamlfile:\n",
    "        linked_mitos_dict = yaml.safe_load(yamlfile)\n",
    "\n",
    "    parsed_dict = {k: linked_mitos_dict[k] for k in (\n",
    "        'frame', 'particle', 'pressure', 'x', 'y', 'z')}\n",
    "    parsed_df = pd.DataFrame(parsed_dict)\n",
    "    parsed_df['Experiment_id'] = experiment_id\n",
    "    parsed_df['worm_strain'] = row['worm_strain']\n",
    "    parsed_df['genotype'] = allele_dict[row['worm_strain']]\n",
    "    list_of_linked_mito_dfs.append(parsed_df)\n",
    "\n",
    "linked_mitos_df = pd.concat(list_of_linked_mito_dfs)"
   ]
  },
  {
   "cell_type": "markdown",
   "metadata": {},
   "source": [
    "## Correct from raw pixel locations to more useful locations\n",
    "### Correct y value for actuator location and worm head direction\n",
    "A y coordinate of 0 is the center of the actuator, and negative values correspond to the anterior side of the worm"
   ]
  },
  {
   "cell_type": "code",
   "execution_count": null,
   "metadata": {},
   "outputs": [],
   "source": [
    "def correct_y_value(row):\n",
    "    current_metadata = trials_for_analysis.loc[trials_for_analysis['Experiment_id'] == row['Experiment_id']]\n",
    "\n",
    "    if current_metadata['head_orientation'].str.contains('Headfirst').all():\n",
    "        worm_head_direction = -1\n",
    "    elif current_metadata['head_orientation'].str.contains('Tailfirst').all():\n",
    "        worm_head_direction = 1\n",
    "    else:\n",
    "        raise ValueError\n",
    "\n",
    "    yval_middle_of_actuator = current_metadata['actuator_center'].values[0][1]\n",
    "    \n",
    "    return worm_head_direction * (row['y'] - yval_middle_of_actuator)\n",
    "\n",
    "linked_mitos_df['y'] = linked_mitos_df.apply(correct_y_value, axis=1)\n",
    "# linked_mitos_df['y_pixel'] = linked_mitos_df['y']"
   ]
  },
  {
   "cell_type": "markdown",
   "metadata": {},
   "source": [
    "### Convert coordinates from pixels to microns"
   ]
  },
  {
   "cell_type": "code",
   "execution_count": null,
   "metadata": {},
   "outputs": [],
   "source": [
    "for coord in ['x', 'y', 'z']:\n",
    "    linked_mitos_df[coord] = linked_mitos_df[coord] * pixel_to_micron"
   ]
  },
  {
   "cell_type": "code",
   "execution_count": null,
   "metadata": {},
   "outputs": [],
   "source": [
    "# linked_mitos_df.head()"
   ]
  },
  {
   "cell_type": "markdown",
   "metadata": {},
   "source": [
    "## Calculate displacements\n",
    "### Find rest locations\n",
    "The rest location is the \"undeformed\" reference location for a particular mitochondrion. This is not truly undeformed since the worm is compressed in the trap, but it corresponds to the reference configuration for calculating strain"
   ]
  },
  {
   "cell_type": "code",
   "execution_count": null,
   "metadata": {},
   "outputs": [],
   "source": [
    "def find_rest_locations(row, dimension):\n",
    "    if row['pressure'] == 0:\n",
    "        rest_dist = row[dimension]\n",
    "    elif row['pressure'] != 0:\n",
    "        rest_dist = linked_mitos_df.loc[\n",
    "            (linked_mitos_df['Experiment_id'] == row['Experiment_id']) &\n",
    "            (linked_mitos_df['frame'] == row['frame'] - 1) &\n",
    "            (linked_mitos_df['particle'] == row['particle'])][dimension].values[0]\n",
    "    \n",
    "    return rest_dist\n",
    "\n",
    "for dimension in ['x', 'y', 'z']:\n",
    "    linked_mitos_df[dimension + '_rest'] = linked_mitos_df.apply(\n",
    "        find_rest_locations, dimension=dimension, axis=1)"
   ]
  },
  {
   "cell_type": "markdown",
   "metadata": {},
   "source": [
    "### Find displacements\n",
    "The displacement of a mitochondrion is the distance between its current location and its rest location."
   ]
  },
  {
   "cell_type": "code",
   "execution_count": null,
   "metadata": {},
   "outputs": [],
   "source": [
    "def calc_displacement(row, dimension):\n",
    "#     print([row[dim] for dim in list(dimension)])\n",
    "    return distance.euclidean([row[dim] for dim in list(dimension)],\n",
    "                              [row[dim + '_rest'] for dim in list(dimension)])\n",
    "\n",
    "for dimension in ['x', 'y', 'z', 'xz', 'xyz']:\n",
    "    linked_mitos_df[dimension + '_disp'] = linked_mitos_df.apply(\n",
    "        calc_displacement, dimension=dimension, axis=1)\n",
    "    "
   ]
  },
  {
   "cell_type": "code",
   "execution_count": null,
   "metadata": {},
   "outputs": [],
   "source": [
    "# linked_mitos_df"
   ]
  },
  {
   "cell_type": "code",
   "execution_count": null,
   "metadata": {},
   "outputs": [],
   "source": [
    "sns.set_style(\"ticks\")\n",
    "\n",
    "actuator_extent_df = linked_mitos_df.loc[(linked_mitos_df['y'] > -50) &\n",
    "                                         (linked_mitos_df['y'] < 50)]\n",
    "\n",
    "ax = sns.scatterplot(x='y', y='x_disp', data=linked_mitos_df, hue='genotype', style='pressure')\n",
    "sns.despine(ax=ax, offset=10)\n",
    "ax.set_xlabel('Longitundinal distance from actuator (um)')\n",
    "ax.set_ylabel('Displacement in direction of actuation (um)')\n",
    "plt.legend(bbox_to_anchor=(1.05, 1), borderaxespad=0.);\n",
    "\n",
    "# fig, ax = plt.subplots()\n",
    "# ax = sns.scatterplot(x='y', y='z_disp', data=linked_mitos_df, hue='genotype', style='pressure')\n",
    "# sns.despine(ax=ax, offset=10)\n",
    "# ax.set_xlabel('Longitundinal distance from actuator (um)')\n",
    "# ax.set_ylabel('Displacement in direction of actuation (um)')\n",
    "# plt.legend(bbox_to_anchor=(1.05, 1), borderaxespad=0.);"
   ]
  },
  {
   "cell_type": "markdown",
   "metadata": {},
   "source": [
    "## Create dataframe with data for pairs of adjacent mitochondria\n",
    "- experiment id\n",
    "- pair id\n",
    "- particle ids\n",
    "- frame number\n",
    "- actuation pressure\n",
    "- worm strain name\n",
    "- genotype\n",
    "- current distance between pairs\n",
    "- stretch\n",
    "- strain\n",
    "### Match adjacent mitochondria into pairs"
   ]
  },
  {
   "cell_type": "code",
   "execution_count": null,
   "metadata": {},
   "outputs": [],
   "source": [
    "mito_pair_df_list = []\n",
    "linked_mitos_df.sort_values(['Experiment_id', 'frame', 'y'], inplace=True)\n",
    "for trial in linked_mitos_df['Experiment_id'].unique():\n",
    "    for frame in linked_mitos_df.loc[linked_mitos_df['Experiment_id'] == trial]['frame'].unique():\n",
    "        pair_count = 0\n",
    "        # create iterrator to go through the particles of only this frame\n",
    "        iterrator = linked_mitos_df.loc[\n",
    "                (linked_mitos_df['Experiment_id'] == trial) &\n",
    "                (linked_mitos_df['frame'] == frame)].iterrows() \n",
    "        # skip the first one, since we want to make pairs\n",
    "        previous_index, previous_row = next(iterrator)\n",
    "#         previous_row = first_row['particle']\n",
    "        for index, row in iterrator:\n",
    "            dist = distance.euclidean(previous_row[['x', 'y', 'z']], row[['x', 'y', 'z']])\n",
    "            rest_dist = distance.euclidean(\n",
    "                previous_row[['x_rest', 'y_rest', 'z_rest']], row[['x_rest', 'y_rest', 'z_rest']])\n",
    "            this_mito_pair_dict = {\n",
    "                'Experiment_id': row['Experiment_id'],\n",
    "                'frame': row['frame'],\n",
    "                'particle_1': previous_row['particle'],\n",
    "                'particle_1_yval': previous_row['y'],\n",
    "                'particle_2': row['particle'],\n",
    "                'particle_2_yval': row['y'],\n",
    "                'pair_id': pair_count,\n",
    "                'pressure': row['pressure'],\n",
    "                'worm_strain': row['worm_strain'],\n",
    "                'genotype': row['genotype'],\n",
    "                'distance': dist,\n",
    "                'rest_dist': rest_dist}\n",
    "            mito_pair_df_list.append(this_mito_pair_dict)\n",
    "            pair_count += 1\n",
    "            previous_row = row\n",
    "mito_pair_df = pd.DataFrame(mito_pair_df_list)\n"
   ]
  },
  {
   "cell_type": "code",
   "execution_count": null,
   "metadata": {},
   "outputs": [],
   "source": [
    "# mito_pair_df.head()"
   ]
  },
  {
   "cell_type": "markdown",
   "metadata": {},
   "source": [
    "### Calculate stretch and strain"
   ]
  },
  {
   "cell_type": "code",
   "execution_count": null,
   "metadata": {},
   "outputs": [],
   "source": [
    "def calc_stretch(row):\n",
    "    return row['distance'] - row['rest_dist']\n",
    "\n",
    "def calc_strain(row):\n",
    "    return row['stretch'] / row['rest_dist']\n",
    "\n",
    "mito_pair_df['stretch'] = mito_pair_df.apply(calc_stretch, axis=1)\n",
    "mito_pair_df['strain'] = mito_pair_df.apply(calc_strain, axis=1)"
   ]
  },
  {
   "cell_type": "markdown",
   "metadata": {},
   "source": [
    "## Plots of strain\n",
    "### Plot strain at middle of actuator"
   ]
  },
  {
   "cell_type": "code",
   "execution_count": null,
   "metadata": {},
   "outputs": [],
   "source": [
    "sns.set_style('white')\n",
    "central_mito_pair_df = mito_pair_df.loc[\n",
    "    ((mito_pair_df['particle_1_yval'] < 0) != \n",
    "     (mito_pair_df['particle_2_yval'] < 0)) &\n",
    "    (mito_pair_df['pressure'] != 0)]\n",
    "\n",
    "fig, ax = plt.subplots(figsize=(10,5))\n",
    "sns.boxplot(x='genotype', y='stretch', data=central_mito_pair_df, ax=ax)\n",
    "sns.swarmplot(x='genotype', y='stretch', color=\".25\", data=central_mito_pair_df, ax=ax)\n",
    "# n_trials_text = mpl.offsetbox.AnchoredText('n =' + str(n_trials), loc=\"upper right\", frameon=False)\n",
    "# ax3.add_artist(n_trials_text)\n",
    "\n",
    "fig2, ax2 = plt.subplots(figsize=(10,5))\n",
    "sns.boxplot(x='genotype', y='strain', data=central_mito_pair_df, ax=ax2)\n",
    "sns.swarmplot(x='genotype', y='strain', color=\".25\", data=central_mito_pair_df, ax=ax2)\n",
    "\n",
    "print(time.time()-start)"
   ]
  },
  {
   "cell_type": "markdown",
   "metadata": {},
   "source": [
    "### Plot strain profile"
   ]
  },
  {
   "cell_type": "code",
   "execution_count": null,
   "metadata": {},
   "outputs": [],
   "source": [
    "spatial_strain_avg_list = []\n",
    "for index, row in mito_pair_df.iterrows():\n",
    "    y1_pixel = math.ceil(row['particle_1_yval'] / pixel_to_micron)\n",
    "    y2_pixel = math.floor(row['particle_2_yval'] / pixel_to_micron)\n",
    "#     print(y1_pixel, y2_pixel)\n",
    "    for y_coord in range(y1_pixel, y2_pixel):\n",
    "        new_row_dict = {\n",
    "            'Experiment_id': row['Experiment_id'],\n",
    "            'frame': row['frame'],\n",
    "            'pair_id': pair_count,\n",
    "            'pressure': row['pressure'],\n",
    "            'worm_strain': row['worm_strain'],\n",
    "            'genotype': row['genotype'],\n",
    "            'stretch': row['stretch'],\n",
    "            'strain': row['strain'],\n",
    "            'y_coord': y_coord}\n",
    "        spatial_strain_avg_list.append(new_row_dict)\n",
    "            \n",
    "spatial_strain_df = pd.DataFrame(spatial_strain_avg_list)"
   ]
  },
  {
   "cell_type": "code",
   "execution_count": null,
   "metadata": {},
   "outputs": [],
   "source": [
    "spatial_strain_df.describe()"
   ]
  },
  {
   "cell_type": "code",
   "execution_count": null,
   "metadata": {},
   "outputs": [],
   "source": [
    "plot_start = time.time()\n",
    "fig, ax = plt.subplots(figsize=(10,5))\n",
    "sns.lineplot(x='y_coord', y='strain', ax=ax, hue='worm_strain', ci=None, # style='',\n",
    "             data=spatial_strain_df.loc[(spatial_strain_df['pressure']==300) &\n",
    "                                        (spatial_strain_df['y_coord'] > -100) &\n",
    "                                        (spatial_strain_df['y_coord'] < 100)])\n",
    "             \n",
    " \n",
    "sns.despine(offset=10)\n",
    "h, labels = ax.get_legend_handles_labels()\n",
    "labels = [(allele_dict[label] + ', n=' + str(n_trials_dict[label])) if label in allele_dict else 'Allele' for label in labels]\n",
    "ax.legend(h, labels)\n",
    "print('Plot took', str(round(time.time()-plot_start)), 'seconds.')"
   ]
  },
  {
   "cell_type": "markdown",
   "metadata": {},
   "source": [
    "## Fitting displacement profile"
   ]
  },
  {
   "cell_type": "code",
   "execution_count": null,
   "metadata": {},
   "outputs": [],
   "source": [
    "# from scipy.optimize import curve_fit\n",
    "\n",
    "\n",
    "# first_trial_for_fitting = linked_mitos_df.loc[(linked_mitos_df['Experiment_id'] == 'SSN_148_001') &\n",
    "#                                               (linked_mitos_df['pressure'] == 300)]# &\n",
    "# #                                               (linked_mitos_df['y'] > -50) &\n",
    "# #                                               (linked_mitos_df['y'] < 50)]"
   ]
  },
  {
   "cell_type": "code",
   "execution_count": null,
   "metadata": {},
   "outputs": [],
   "source": [
    "def transformed_cauchy(x, loc, scale, mag):\n",
    "    return mag * stats.cauchy.pdf(x, loc, scale)\n",
    "\n",
    "def calc_max_disp_from_cauchy_fit(row):\n",
    "    max_disp = transformed_cauchy(row['max_disp_location'],\n",
    "                                  row['max_disp_location'],\n",
    "                                  row['cauchy_scale_param'],\n",
    "                                  row['cauchy_magnitude_param'])\n",
    "    return max_disp\n",
    "\n",
    "fit_param_list = []\n",
    "for index, trial in trials_for_analysis.iterrows():\n",
    "#     print(trial)\n",
    "    trials_with_actuation = linked_mitos_df.loc[\n",
    "        (linked_mitos_df['Experiment_id'] == trial['Experiment_id']) &\n",
    "        (linked_mitos_df['pressure'] == 300)]\n",
    "    popt, pcov = curve_fit(\n",
    "        transformed_cauchy,\n",
    "        trials_with_actuation['y'],\n",
    "        trials_with_actuation['x_disp'],\n",
    "        p0=(0, 20, 400),\n",
    "        maxfev=1000000)#,\n",
    "#         bounds=((-100, 1, 50),\n",
    "#                 (100, 100, 1000)))\n",
    "    fit_param_dict = {\n",
    "        'Experiment_id': trial['Experiment_id'],\n",
    "        'worm_strain': trial['worm_strain'],\n",
    "        'genotype': allele_dict[trial['worm_strain']],\n",
    "        'max_disp_location': popt[0],\n",
    "        'cauchy_scale_param': popt[1],\n",
    "        'cauchy_magnitude_param': popt[2]\n",
    "    }\n",
    "    fit_param_list.append(fit_param_dict)\n",
    "fit_param_df = pd.DataFrame(fit_param_list)\n",
    "fit_param_df['max_disp'] = fit_param_df.apply(calc_max_disp_from_cauchy_fit, axis=1)"
   ]
  },
  {
   "cell_type": "code",
   "execution_count": null,
   "metadata": {},
   "outputs": [],
   "source": [
    "# fit_param_df"
   ]
  },
  {
   "cell_type": "code",
   "execution_count": null,
   "metadata": {},
   "outputs": [],
   "source": [
    "ax = sns.scatterplot(x='y', y='x_disp', \n",
    "                     data=linked_mitos_df,#.loc[linked_mitos_df['Experiment_id']=='SSN_150_001'],\n",
    "                     hue='genotype', style='pressure')\n",
    "sns.despine(ax=ax, offset=10)\n",
    "ax.set_xlabel('Longitundinal distance from actuator (um)')\n",
    "ax.set_ylabel('Displacement in direction of actuation (um)')\n",
    "plt.legend(bbox_to_anchor=(1.05, 1), borderaxespad=0.)\n",
    "\n",
    "plot_bounds = ax.get_xbound()\n",
    "x_coords =  np.linspace(round(plot_bounds[0]), round(plot_bounds[1]))\n",
    "for index, row in fit_param_df.iterrows():#[fit_param_df['Experiment_id']=='SSN_150_001'].iterrows():\n",
    "    color = ['b' if (row['worm_strain'] == 'NM3573') else 'r']\n",
    "    ax.plot(x_coords, transformed_cauchy(x_coords,\n",
    "                                         row['max_disp_location'],\n",
    "                                         row['cauchy_scale_param'],\n",
    "                                         row['cauchy_magnitude_param']),\n",
    "           color=color[0], alpha=0.1)\n",
    "ax.set_ybound(0,10)"
   ]
  },
  {
   "cell_type": "code",
   "execution_count": null,
   "metadata": {},
   "outputs": [],
   "source": [
    "ax = sns.boxplot(x='genotype', y='max_disp', data=fit_param_df)\n",
    "ax.set_ybound(-0,25)"
   ]
  },
  {
   "cell_type": "markdown",
   "metadata": {},
   "source": [
    "## Sanity checks to make sure calculations didn't go horribly wrong\n",
    "#### rest distances actually match previous particle locations\n",
    "#### displacements in multiple dimensions are vector sum of individual displacements\n",
    "#### mitochondria pairs are correct\n",
    "- correct number of pairs for each trial\n",
    "- pairs are in correct order\n",
    "- pair distance is correct using original particle locations\n",
    "- pressure values are maintained properly\n",
    "\n",
    "#### coordinates for spatial average of strain are correct"
   ]
  },
  {
   "cell_type": "code",
   "execution_count": null,
   "metadata": {},
   "outputs": [],
   "source": [
    "time.time()-start"
   ]
  },
  {
   "cell_type": "code",
   "execution_count": null,
   "metadata": {},
   "outputs": [],
   "source": []
  }
 ],
 "metadata": {
  "kernelspec": {
   "display_name": "Python [conda env:spinningDiskAnalysis]",
   "language": "python",
   "name": "conda-env-spinningDiskAnalysis-py"
  },
  "language_info": {
   "codemirror_mode": {
    "name": "ipython",
    "version": 3
   },
   "file_extension": ".py",
   "mimetype": "text/x-python",
   "name": "python",
   "nbconvert_exporter": "python",
   "pygments_lexer": "ipython3",
   "version": "3.6.7"
  }
 },
 "nbformat": 4,
 "nbformat_minor": 2
}
