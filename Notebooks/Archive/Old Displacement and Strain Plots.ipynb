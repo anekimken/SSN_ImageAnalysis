{
 "cells": [
  {
   "cell_type": "markdown",
   "metadata": {},
   "source": [
    "# Mitochondria Displacement Plots\n",
    "Script that goes through analyzed data and makes plots of mitochondria displacements\n",
    "### File location parameters"
   ]
  },
  {
   "cell_type": "code",
   "execution_count": 1,
   "metadata": {},
   "outputs": [],
   "source": [
    "analyzed_data_dir = '/Users/adam/Documents/SenseOfTouchResearch/SSN_AnalyzedData/'\n",
    "fig_save_dir = analyzed_data_dir + 'PreliminaryPlots/'"
   ]
  },
  {
   "cell_type": "markdown",
   "metadata": {},
   "source": [
    "### Choose worm strain and neuron"
   ]
  },
  {
   "cell_type": "code",
   "execution_count": 2,
   "metadata": {},
   "outputs": [],
   "source": [
    "worm_strains = ['NM3573', 'GN885']\n",
    "current_neuron = 'ALM'\n",
    "\n",
    "allele_dict = {'NM3573': 'wild-type',\n",
    "               'GN885': 'him-4(e1267)',\n",
    "               'GN886': 'mec-1(e1066)',\n",
    "               'GN887': 'mec-1(e1738)'}"
   ]
  },
  {
   "cell_type": "markdown",
   "metadata": {},
   "source": [
    "### Experimental parameters"
   ]
  },
  {
   "cell_type": "code",
   "execution_count": 3,
   "metadata": {},
   "outputs": [],
   "source": [
    "pixel_to_micron = 0.275"
   ]
  },
  {
   "cell_type": "markdown",
   "metadata": {},
   "source": [
    "### Import packages"
   ]
  },
  {
   "cell_type": "code",
   "execution_count": 4,
   "metadata": {},
   "outputs": [],
   "source": [
    "import yaml\n",
    "import pandas as pd\n",
    "import matplotlib as mpl\n",
    "import matplotlib.pyplot as plt\n",
    "from scipy.spatial import distance\n",
    "from scipy import stats\n",
    "import warnings\n",
    "import glob\n",
    "import numpy as np\n",
    "import typing\n",
    "import pathlib\n",
    "import seaborn as sns\n",
    "import pathlib\n",
    "\n",
    "for current_worm_strain in worm_strains:\n",
    "    current_strain_TRN = current_worm_strain + '_' + current_neuron\n",
    "    fig_path = pathlib.Path(fig_save_dir + current_strain_TRN)\n",
    "    if fig_path.exists() is False:\n",
    "        fig_path.mkdir()"
   ]
  },
  {
   "cell_type": "markdown",
   "metadata": {},
   "source": [
    "### Functions for creating dataframes"
   ]
  },
  {
   "cell_type": "code",
   "execution_count": 5,
   "metadata": {},
   "outputs": [],
   "source": [
    "def get_experiment_df(analyzed_data_dir):\n",
    "    analyzed_trials = glob.iglob(analyzed_data_dir + '*')\n",
    "    all_metadata = []\n",
    "    for trial in analyzed_trials:\n",
    "        try:\n",
    "            with open(trial + '/metadata.yaml') as metadata_file:\n",
    "                all_metadata.append(yaml.safe_load(metadata_file))\n",
    "        except FileNotFoundError:\n",
    "            pass\n",
    "        except NotADirectoryError:\n",
    "            pass\n",
    "\n",
    "    metadata_df = pd.DataFrame(all_metadata)\n",
    "    \n",
    "    return metadata_df\n"
   ]
  },
  {
   "cell_type": "markdown",
   "metadata": {},
   "source": [
    "### Functions for manipulating dataframes"
   ]
  },
  {
   "cell_type": "code",
   "execution_count": 6,
   "metadata": {},
   "outputs": [],
   "source": [
    "def calc_x_distance(row):\n",
    "    return distance.euclidean([row['x']], [row['x_rest']])\n",
    "\n",
    "def calc_xz_distance(row):\n",
    "    return distance.euclidean([row['x'], row['z']], [row['x_rest'], row['z_rest']])\n",
    "\n",
    "def calc_xyz_distance(row):\n",
    "    return distance.euclidean([row['x'], row['y'], row['z']], [row['x_rest'],  row['y_rest'], row['z_rest']])\n",
    "\n",
    "# def calc_x_stretch(row):\n",
    "#     print('calc_x_stretch function not implemented')\n",
    "# #     return distance.euclidean([row['x']], [row['x_rest']])\n",
    "\n",
    "# def calc_xz_stretch(row):\n",
    "#     print('calc_xz_stretch function not implemented')\n",
    "# #     return distance.euclidean([row['x'], row['z']], [row['x_rest'], row['z_rest']])\n",
    "\n",
    "# def calc_xyz_stretch(row):\n",
    "#     print('calc_xyz_stretch function not implemented')\n",
    "# #     return distance.euclidean([row['x'], row['y'], row['z']], [row['x_rest'],  row['y_rest'], row['z_rest']])\n",
    "\n",
    "# def calc_x_strain(row):\n",
    "#     print('calc_x_strain function not implemented')\n",
    "# #     return distance.euclidean([row['x']], [row['x_rest']])\n",
    "\n",
    "# def calc_xz_strain(row):\n",
    "#     print('calc_xz_strain function not implemented')\n",
    "# #     return distance.euclidean([row['x'], row['z']], [row['x_rest'], row['z_rest']])\n",
    "\n",
    "# def calc_xyz_strain(row):\n",
    "#     print('calc_xyz_strain function not implemented')\n",
    "# #     return distance.euclidean([row['x'], row['y'], row['z']], [row['x_rest'],  row['y_rest'], row['z_rest']])"
   ]
  },
  {
   "cell_type": "markdown",
   "metadata": {},
   "source": [
    "### Function for plotting"
   ]
  },
  {
   "cell_type": "code",
   "execution_count": 7,
   "metadata": {},
   "outputs": [],
   "source": [
    "def plot_disp_centered_on_actuator(linked_mitos_df: pd.DataFrame,\n",
    "                                   metadata_df: pd.DataFrame,\n",
    "                                   disp_component: str,\n",
    "                                   ax: mpl.axes.Axes=None,\n",
    "                                   normalization: bool=False):\n",
    "    actuator_center_coords = metadata_df['actuator_center'].apply(pd.Series).stack()\n",
    "    if metadata_df['head_orientation'].str.contains('Headfirst').all():\n",
    "        worm_head_direction = -1\n",
    "    elif metadata_df['head_orientation'].str.contains('Tailfirst').all():\n",
    "        worm_head_direction = 1\n",
    "    else:\n",
    "        raise ValueError\n",
    "    linked_mitos_df['corrected_y'] = worm_head_direction * pixel_to_micron * (\n",
    "        linked_mitos_df['y'] - actuator_center_coords[1])\n",
    "    linked_mitos_df['x_disp'] = linked_mitos_df.apply(calc_x_distance, axis=1) * pixel_to_micron \n",
    "    linked_mitos_df['xz_disp'] = linked_mitos_df.apply(calc_xz_distance, axis=1) * pixel_to_micron \n",
    "    linked_mitos_df['xyz_disp'] = linked_mitos_df.apply(calc_xyz_distance, axis=1) * pixel_to_micron \n",
    "    \n",
    "    plot_axes = disp_component + '_disp'\n",
    "    \n",
    "    if normalization is True:\n",
    "        linked_mitos_df[plot_axes + '_normalized']=(linked_mitos_df[plot_axes]/linked_mitos_df[plot_axes].max())\n",
    "        plot_axes += '_normalized'\n",
    "    \n",
    "    if ax is None:\n",
    "        fig, ax = plt.subplots()\n",
    "        plot_title = metadata_df.loc[:,'Experiment_id'].values[0]\n",
    "    else:\n",
    "        plot_title = current_neuron + ' of ' + allele_dict[metadata_df['worm_strain'].values[0]]\n",
    "\n",
    "    linked_mitos_df.loc[linked_mitos_df['pressure'] == 0].groupby(['frame']).plot(\n",
    "            x='corrected_y', y=plot_axes,\n",
    "            color='#e66101', kind='scatter', ax=ax)\n",
    "    linked_mitos_df.loc[linked_mitos_df['pressure'] == 300].groupby(['frame']).plot(\n",
    "                x='corrected_y', y=plot_axes, title=plot_title,\n",
    "                color='#5e3c99', kind='scatter', ax=ax)\n",
    "    ax.set_xlabel('Longitudinal distance (um)')\n",
    "    ax.set_ylabel('Displacement normal to worm length (um)')"
   ]
  },
  {
   "cell_type": "code",
   "execution_count": 8,
   "metadata": {},
   "outputs": [
    {
     "data": {
      "image/png": "[encoded data removed]",
      "text/plain": [
       "<Figure size 720x360 with 2 Axes>"
      ]
     },
     "metadata": {
      "needs_background": "light"
     },
     "output_type": "display_data"
    }
   ],
   "source": [
    "# get all the metadata\n",
    "all_metadata = get_experiment_df(analyzed_data_dir)\n",
    "# select only the trials we want\n",
    "trials_with_strain_and_actuator = all_metadata.loc[(all_metadata['analysis_status'] == 'Strain calculated') &\n",
    "                                                   (all_metadata['actuator_center'].notnull()) &\n",
    "                                                   (all_metadata['neuron'] == current_neuron)]\n",
    "n_trials_dict = trials_with_strain_and_actuator['worm_strain'].value_counts().to_dict()\n",
    "\n",
    "# make plots for those trials\n",
    "fig, axes = plt.subplots(ncols=len(worm_strains), figsize=(5 * len(worm_strains),5))\n",
    "fig.suptitle('Displacement centered on actuator', fontsize=16)\n",
    "ax_index = 0\n",
    "for genotype in worm_strains:\n",
    "    for index, row in trials_with_strain_and_actuator.loc[\n",
    "            trials_with_strain_and_actuator['worm_strain'] == genotype].iterrows():\n",
    "        experiment_id = row['Experiment_id']\n",
    "        metadata = trials_with_strain_and_actuator.loc[all_metadata['Experiment_id'] == experiment_id]\n",
    "\n",
    "        strain_file = analyzed_data_dir + experiment_id + '/strain.yaml'\n",
    "        with open(strain_file, 'r') as yamlfile:\n",
    "            strain_df = yaml.safe_load(yamlfile)\n",
    "        strain_df = pd.DataFrame(strain_df)\n",
    "\n",
    "        linked_mitos_file = analyzed_data_dir + experiment_id + '/mito_locations.yaml'\n",
    "        with open(linked_mitos_file, 'r') as yamlfile:\n",
    "            linked_mitos_df = yaml.safe_load(yamlfile)\n",
    "        linked_mitos_df = pd.DataFrame.from_dict(linked_mitos_df)\n",
    "\n",
    "        plot_disp_centered_on_actuator(linked_mitos_df, metadata, 'x', axes[ax_index])\n",
    "        # shade by trial\n",
    "    #     plot_disp_centered_on_actuator(linked_mitos_df, metadata, 'x', ax2, True)\n",
    "    #     plot_disp_centered_on_actuator(linked_mitos_df, metadata, 'x')\n",
    "    #     plot_disp_centered_on_actuator(linked_mitos_df, metadata, 'xz', ax)\n",
    "    #     plot_disp_centered_on_actuator(linked_mitos_df, metadata, 'xyz')\n",
    "#     fig.savefig(fig_save_dir + genotype + '_' + current_neuron + '/aggregatedDisplacement.png')\n",
    "    ax_index += 1\n",
    "\n",
    "\n",
    "fig.savefig(fig_save_dir + current_neuron + '/aggregatedDisplacement.png')\n"
   ]
  },
  {
   "cell_type": "markdown",
   "metadata": {},
   "source": [
    "## Strain plots\n",
    "Strain is really what we'd like to know, since it quantifies the deformation of the neuron. It can be calculated according to: \n",
    "\n",
    "$\\epsilon = \\frac{L - L_0}{L_0}$\n",
    "\n",
    "Where $L$ is the current length of the object and $L_0$ is the undeformed length. A strain measurement is thus particularly sensitive to the choice of an undeformed configuration. For the sparse, noisy data we have, a few choices are:\n",
    "\n",
    "1. Use the average of all lengths between the same pair of mitochondria in the condition where pressure=0\n",
    "2. Use the length between the same pair of mitochondria in the stack immediately preceding the actuation\n",
    "3. Use the averate lengths between the same pair of mitochondria in the stack immediately before and after the actuation\n",
    "\n",
    "### Strain calcs with different reference distances"
   ]
  },
  {
   "cell_type": "code",
   "execution_count": 9,
   "metadata": {},
   "outputs": [],
   "source": [
    "'''Option 1 above already in the strain_df since I do it that way in spyder'''\n",
    "\n",
    "def calc_strain_rest_before(row):\n",
    "    '''Option 2 above'''\n",
    "    if row['pressure'] != 0:\n",
    "        before_rest = strain_df.loc[\n",
    "            (strain_df['frame'] == row['frame'] - 1) &\n",
    "            (strain_df['pair_id'] == row['pair_id'])]['total_dist'].values\n",
    "        before_strain = (row['total_dist'] - before_rest) / before_rest\n",
    "    else:\n",
    "        before_strain = 0\n",
    "    return float(before_strain)\n",
    "\n",
    "def calc_strain_rest_before_after(row):\n",
    "    '''Option 3 above'''\n",
    "    if row['frame'] < strain_df['frame'].max():\n",
    "        if row['pressure'] != 0:\n",
    "            before_rest = strain_df.loc[\n",
    "                (strain_df['frame'] == row['frame'] - 1) &\n",
    "                (strain_df['pair_id'] == row['pair_id'])]['total_dist']\n",
    "            after_rest = strain_df.loc[\n",
    "                (strain_df['frame'] == row['frame'] + 1) &\n",
    "                (strain_df['pair_id'] == row['pair_id'])]['total_dist']\n",
    "            rest = np.mean([before_rest.values, after_rest.values])\n",
    "            before_after_strain = (row['total_dist'] - rest) / rest\n",
    "        else:\n",
    "            before_after_strain = 0\n",
    "    else:\n",
    "        before_after_strain = None\n",
    "        \n",
    "#     print(type(before_after_strain), before_after_strain)\n",
    "    return before_after_strain\n",
    "\n",
    "def calc_stretch_rest_before_after(row):\n",
    "    '''Stretch calculation with option 3 above'''\n",
    "    if row['frame'] < strain_df['frame'].max():\n",
    "        if row['pressure'] != 0:\n",
    "            before_rest = strain_df.loc[\n",
    "                (strain_df['frame'] == row['frame'] - 1) &\n",
    "                (strain_df['pair_id'] == row['pair_id'])]['total_dist']\n",
    "            after_rest = strain_df.loc[\n",
    "                (strain_df['frame'] == row['frame'] + 1) &\n",
    "                (strain_df['pair_id'] == row['pair_id'])]['total_dist']\n",
    "            rest = np.mean([before_rest.values, after_rest.values])\n",
    "            before_after_stretch = (row['total_dist'] - rest) * pixel_to_micron\n",
    "        else:\n",
    "            before_after_stretch = 0\n",
    "    else:\n",
    "        before_after_stretch = None\n",
    "        \n",
    "#     print(type(before_after_strain), before_after_strain)\n",
    "    return before_after_stretch"
   ]
  },
  {
   "cell_type": "markdown",
   "metadata": {},
   "source": [
    "### Functions for plotting strain"
   ]
  },
  {
   "cell_type": "code",
   "execution_count": 10,
   "metadata": {},
   "outputs": [],
   "source": [
    "def plot_strain_centered_on_actuator(strain_df: pd.DataFrame,\n",
    "                                     linked_mitos_df: pd.DataFrame,\n",
    "                                     metadata_df: pd.DataFrame,\n",
    "                                     strain_calc_opt: str='strain',\n",
    "                                     ax: mpl.axes.Axes=None):\n",
    "    actuator_center_coords = metadata_df['actuator_center'].apply(pd.Series).stack()\n",
    "    if metadata['head_orientation'].str.contains('Headfirst').all():\n",
    "        worm_head_direction = -1\n",
    "    elif metadata['head_orientation'].str.contains('Tailfirst').all():\n",
    "        worm_head_direction = 1\n",
    "    else:\n",
    "        raise ValueError\n",
    "        \n",
    "    strain_df['before_strain'] = strain_df.apply(calc_strain_rest_before, axis=1)\n",
    "    strain_df['before_after_strain'] = strain_df.apply(calc_strain_rest_before_after, axis=1) \n",
    "    linked_mitos_df['corrected_y'] = worm_head_direction * (linked_mitos_df['y'] - actuator_center_coords[1])\n",
    "    corrected_y_vals = []\n",
    "\n",
    "    for index, row in strain_df.iterrows():\n",
    "        corrected_y_vals.append(linked_mitos_df.loc[\n",
    "                (linked_mitos_df['frame'] == row['frame']) &\n",
    "                (linked_mitos_df['particle'] == row['particle_1'])]['corrected_y'].values[0])\n",
    "    strain_df['corrected_y'] = corrected_y_vals\n",
    "    strain_df['corrected_y'] *= pixel_to_micron # pixel size correction\n",
    "\n",
    "    if ax is None:\n",
    "        fig, ax = plt.subplots()\n",
    "        plot_title = metadata_df.loc[:,'Experiment_id'].values[0]\n",
    "    else:\n",
    "        plot_title = current_neuron + ' of ' + allele_dict[current_worm_strain]\n",
    "\n",
    "    plot_spec = {'x': 'corrected_y',\n",
    "                 'y': strain_calc_opt,\n",
    "                 'alpha': 0.25,\n",
    "                 'ax': ax,\n",
    "                 'drawstyle': 'steps',\n",
    "                 'title': plot_title}#,\n",
    "#                  'figsize': (10, 5)}\n",
    "    strain_df.loc[strain_df['pressure'] == 0].groupby(['frame']).plot(\n",
    "            **plot_spec, color='#e66101')\n",
    "    strain_df.loc[strain_df['pressure'] == 300].groupby(['frame']).plot(\n",
    "            **plot_spec, color='#5e3c99')\n",
    "    ax.get_legend().remove()\n",
    "    ax.set_ylabel(strain_calc_opt)\n",
    "    \n",
    "#     max_strain = strain_df.loc[strain_df[strain_calc_opt].idxmax()]\n",
    "#     max_strain_location = linked_mitos_df.loc[\n",
    "#         (linked_mitos_df['particle'] == max_strain['particle_1']) &\n",
    "#         (linked_mitos_df['frame'] == max_strain['frame'])]\n",
    "#     max_strain_location_2 = linked_mitos_df.loc[\n",
    "#         (linked_mitos_df['particle'] == max_strain['particle_2']) &\n",
    "#         (linked_mitos_df['frame'] == max_strain['frame'])]\n",
    "#     display(max_strain[[strain_calc_opt]])\n",
    "#     display(max_strain_location)\n",
    "#     display(max_strain_location_2)\n",
    "#     ax.text(x=max_strain_location['corrected_y'].values[0],\n",
    "#             y=max_strain[strain_calc_opt],\n",
    "#             s=metadata['Experiment_id'].values[0])\n",
    "    \n",
    "def sample_strain(linked_mitos_df: pd.DataFrame,\n",
    "                  metadata_df: pd.DataFrame,\n",
    "                  y_coords: np.ndarray,\n",
    "                  frame_num: int,\n",
    "                  strain_calc_opt: str='strain') -> pd.DataFrame:\n",
    "    '''Samples piecwise strain for later averaging'''\n",
    "    actuator_center_coords = metadata_df['actuator_center'].apply(pd.Series).stack()\n",
    "    if metadata['head_orientation'].str.contains('Headfirst').all():\n",
    "        worm_head_direction = -1\n",
    "    elif metadata['head_orientation'].str.contains('Tailfirst').all():\n",
    "        worm_head_direction = 1\n",
    "    else:\n",
    "        raise ValueError\n",
    "    strain_df['before_strain'] = strain_df.apply(calc_strain_rest_before, axis=1)\n",
    "    strain_df['before_after_strain'] = strain_df.apply(calc_strain_rest_before_after, axis=1) \n",
    "    strain_df['before_after_stretch'] = strain_df.apply(calc_stretch_rest_before_after, axis=1)\n",
    "\n",
    "    linked_mitos_df['corrected_y'] = worm_head_direction * (linked_mitos_df['y'] - actuator_center_coords[1])\n",
    "    strain_df_this_frame = strain_df.loc[strain_df['frame'] == frame_num].copy()\n",
    "    \n",
    "    sampled_strain_df = pd.DataFrame(columns=['y_coord', 'experiment_id'] + strain_calc_opt)\n",
    "    sampled_strain_df['y_coord'] = y_coords\n",
    "    sampled_strain_df['y_dist'] = sampled_strain_df.apply(lambda row: row.y_coord * 0.275, axis=1)\n",
    "    sampled_strain_df['experiment_id'] = experiment_id\n",
    "    sampled_strain_df['worm_strain'] = metadata['worm_strain'].values[0]\n",
    "\n",
    "    for pair in strain_df_this_frame['pair_id']:\n",
    "        # get particles in this pair\n",
    "        particle1 = strain_df_this_frame.loc[strain_df_this_frame['pair_id'] == pair]['particle_1'].values[0]\n",
    "        particle2 = strain_df_this_frame.loc[strain_df_this_frame['pair_id'] == pair]['particle_2'].values[0]\n",
    "        \n",
    "        # get y values of these particles in this frame\n",
    "        y_part1 = linked_mitos_df.loc[(linked_mitos_df['frame'] == frame_num) &\n",
    "                                      (linked_mitos_df['particle'] == particle1)]['corrected_y'].values[0]\n",
    "        y_part2 = linked_mitos_df.loc[(linked_mitos_df['frame'] == frame_num) &\n",
    "                                      (linked_mitos_df['particle'] == particle2)]['corrected_y'].values[0]\n",
    "        bigger_y = max(y_part1, y_part2)\n",
    "        smaller_y = min(y_part1, y_part2)\n",
    "        # get strain between these two particles in this frame\n",
    "        strain_this_pair = strain_df_this_frame.loc[\n",
    "                strain_df_this_frame['pair_id'] == pair][strain_calc_opt].values[0]\n",
    "        \n",
    "        # save this strain for all y_coords on this interval\n",
    "        sampled_strain_df.loc[\n",
    "            (sampled_strain_df['y_coord'] > smaller_y) & \n",
    "            (sampled_strain_df['y_coord'] < bigger_y), strain_calc_opt] = strain_this_pair\n",
    "\n",
    "#     sampled_strain = sampled_strain_df[strain_calc_opt]\n",
    "    float_columns = {key: float for key in strain_calc_opt}\n",
    "    float_columns['y_coord'] = float\n",
    "    sampled_strain_df = sampled_strain_df.astype(float_columns)\n",
    "\n",
    "    return sampled_strain_df\n",
    "\n",
    "# sampled_strain_df= sample_strain(linked_mitos_df, metadata, np.arange(-1000,1000,1), 1, 'before_after_strain')"
   ]
  },
  {
   "cell_type": "markdown",
   "metadata": {},
   "source": [
    "### Make the plots!"
   ]
  },
  {
   "cell_type": "code",
   "execution_count": 11,
   "metadata": {},
   "outputs": [
    {
     "ename": "KeyboardInterrupt",
     "evalue": "",
     "output_type": "error",
     "traceback": [
      "\u001b[0;31m---------------------------------------------------------------------------\u001b[0m",
      "\u001b[0;31mKeyboardInterrupt\u001b[0m                         Traceback (most recent call last)",
      "\u001b[0;32m<ipython-input-11-77241c8f6bf5>\u001b[0m in \u001b[0;36m<module>\u001b[0;34m()\u001b[0m\n\u001b[1;32m     33\u001b[0m                                            \u001b[0my_coords\u001b[0m\u001b[0;34m=\u001b[0m\u001b[0my_coords_to_sampled\u001b[0m\u001b[0;34m,\u001b[0m\u001b[0;34m\u001b[0m\u001b[0;34m\u001b[0m\u001b[0m\n\u001b[1;32m     34\u001b[0m                                            \u001b[0mframe_num\u001b[0m\u001b[0;34m=\u001b[0m\u001b[0mframe\u001b[0m\u001b[0;34m,\u001b[0m\u001b[0;34m\u001b[0m\u001b[0;34m\u001b[0m\u001b[0m\n\u001b[0;32m---> 35\u001b[0;31m                                            strain_calc_opt=['before_after_strain','before_after_stretch'])],\n\u001b[0m\u001b[1;32m     36\u001b[0m                                           ignore_index=True, sort=False)\n\u001b[1;32m     37\u001b[0m         actuator_strain_df = pd.concat([actuator_strain_df,\n",
      "\u001b[0;32m<ipython-input-10-a16460cf0716>\u001b[0m in \u001b[0;36msample_strain\u001b[0;34m(linked_mitos_df, metadata_df, y_coords, frame_num, strain_calc_opt)\u001b[0m\n\u001b[1;32m     73\u001b[0m     \u001b[0mstrain_df\u001b[0m\u001b[0;34m[\u001b[0m\u001b[0;34m'before_strain'\u001b[0m\u001b[0;34m]\u001b[0m \u001b[0;34m=\u001b[0m \u001b[0mstrain_df\u001b[0m\u001b[0;34m.\u001b[0m\u001b[0mapply\u001b[0m\u001b[0;34m(\u001b[0m\u001b[0mcalc_strain_rest_before\u001b[0m\u001b[0;34m,\u001b[0m \u001b[0maxis\u001b[0m\u001b[0;34m=\u001b[0m\u001b[0;36m1\u001b[0m\u001b[0;34m)\u001b[0m\u001b[0;34m\u001b[0m\u001b[0;34m\u001b[0m\u001b[0m\n\u001b[1;32m     74\u001b[0m     \u001b[0mstrain_df\u001b[0m\u001b[0;34m[\u001b[0m\u001b[0;34m'before_after_strain'\u001b[0m\u001b[0;34m]\u001b[0m \u001b[0;34m=\u001b[0m \u001b[0mstrain_df\u001b[0m\u001b[0;34m.\u001b[0m\u001b[0mapply\u001b[0m\u001b[0;34m(\u001b[0m\u001b[0mcalc_strain_rest_before_after\u001b[0m\u001b[0;34m,\u001b[0m \u001b[0maxis\u001b[0m\u001b[0;34m=\u001b[0m\u001b[0;36m1\u001b[0m\u001b[0;34m)\u001b[0m\u001b[0;34m\u001b[0m\u001b[0;34m\u001b[0m\u001b[0m\n\u001b[0;32m---> 75\u001b[0;31m     \u001b[0mstrain_df\u001b[0m\u001b[0;34m[\u001b[0m\u001b[0;34m'before_after_stretch'\u001b[0m\u001b[0;34m]\u001b[0m \u001b[0;34m=\u001b[0m \u001b[0mstrain_df\u001b[0m\u001b[0;34m.\u001b[0m\u001b[0mapply\u001b[0m\u001b[0;34m(\u001b[0m\u001b[0mcalc_stretch_rest_before_after\u001b[0m\u001b[0;34m,\u001b[0m \u001b[0maxis\u001b[0m\u001b[0;34m=\u001b[0m\u001b[0;36m1\u001b[0m\u001b[0;34m)\u001b[0m\u001b[0;34m\u001b[0m\u001b[0;34m\u001b[0m\u001b[0m\n\u001b[0m\u001b[1;32m     76\u001b[0m \u001b[0;34m\u001b[0m\u001b[0m\n\u001b[1;32m     77\u001b[0m     \u001b[0mlinked_mitos_df\u001b[0m\u001b[0;34m[\u001b[0m\u001b[0;34m'corrected_y'\u001b[0m\u001b[0;34m]\u001b[0m \u001b[0;34m=\u001b[0m \u001b[0mworm_head_direction\u001b[0m \u001b[0;34m*\u001b[0m \u001b[0;34m(\u001b[0m\u001b[0mlinked_mitos_df\u001b[0m\u001b[0;34m[\u001b[0m\u001b[0;34m'y'\u001b[0m\u001b[0;34m]\u001b[0m \u001b[0;34m-\u001b[0m \u001b[0mactuator_center_coords\u001b[0m\u001b[0;34m[\u001b[0m\u001b[0;36m1\u001b[0m\u001b[0;34m]\u001b[0m\u001b[0;34m)\u001b[0m\u001b[0;34m\u001b[0m\u001b[0;34m\u001b[0m\u001b[0m\n",
      "\u001b[0;32m~/anaconda3/envs/spinningDiskAnalysis/lib/python3.6/site-packages/pandas/core/frame.py\u001b[0m in \u001b[0;36mapply\u001b[0;34m(self, func, axis, broadcast, raw, reduce, result_type, args, **kwds)\u001b[0m\n\u001b[1;32m   6012\u001b[0m                          \u001b[0margs\u001b[0m\u001b[0;34m=\u001b[0m\u001b[0margs\u001b[0m\u001b[0;34m,\u001b[0m\u001b[0;34m\u001b[0m\u001b[0;34m\u001b[0m\u001b[0m\n\u001b[1;32m   6013\u001b[0m                          kwds=kwds)\n\u001b[0;32m-> 6014\u001b[0;31m         \u001b[0;32mreturn\u001b[0m \u001b[0mop\u001b[0m\u001b[0;34m.\u001b[0m\u001b[0mget_result\u001b[0m\u001b[0;34m(\u001b[0m\u001b[0;34m)\u001b[0m\u001b[0;34m\u001b[0m\u001b[0;34m\u001b[0m\u001b[0m\n\u001b[0m\u001b[1;32m   6015\u001b[0m \u001b[0;34m\u001b[0m\u001b[0m\n\u001b[1;32m   6016\u001b[0m     \u001b[0;32mdef\u001b[0m \u001b[0mapplymap\u001b[0m\u001b[0;34m(\u001b[0m\u001b[0mself\u001b[0m\u001b[0;34m,\u001b[0m \u001b[0mfunc\u001b[0m\u001b[0;34m)\u001b[0m\u001b[0;34m:\u001b[0m\u001b[0;34m\u001b[0m\u001b[0;34m\u001b[0m\u001b[0m\n",
      "\u001b[0;32m~/anaconda3/envs/spinningDiskAnalysis/lib/python3.6/site-packages/pandas/core/apply.py\u001b[0m in \u001b[0;36mget_result\u001b[0;34m(self)\u001b[0m\n\u001b[1;32m    140\u001b[0m             \u001b[0;32mreturn\u001b[0m \u001b[0mself\u001b[0m\u001b[0;34m.\u001b[0m\u001b[0mapply_raw\u001b[0m\u001b[0;34m(\u001b[0m\u001b[0;34m)\u001b[0m\u001b[0;34m\u001b[0m\u001b[0;34m\u001b[0m\u001b[0m\n\u001b[1;32m    141\u001b[0m \u001b[0;34m\u001b[0m\u001b[0m\n\u001b[0;32m--> 142\u001b[0;31m         \u001b[0;32mreturn\u001b[0m \u001b[0mself\u001b[0m\u001b[0;34m.\u001b[0m\u001b[0mapply_standard\u001b[0m\u001b[0;34m(\u001b[0m\u001b[0;34m)\u001b[0m\u001b[0;34m\u001b[0m\u001b[0;34m\u001b[0m\u001b[0m\n\u001b[0m\u001b[1;32m    143\u001b[0m \u001b[0;34m\u001b[0m\u001b[0m\n\u001b[1;32m    144\u001b[0m     \u001b[0;32mdef\u001b[0m \u001b[0mapply_empty_result\u001b[0m\u001b[0;34m(\u001b[0m\u001b[0mself\u001b[0m\u001b[0;34m)\u001b[0m\u001b[0;34m:\u001b[0m\u001b[0;34m\u001b[0m\u001b[0;34m\u001b[0m\u001b[0m\n",
      "\u001b[0;32m~/anaconda3/envs/spinningDiskAnalysis/lib/python3.6/site-packages/pandas/core/apply.py\u001b[0m in \u001b[0;36mapply_standard\u001b[0;34m(self)\u001b[0m\n\u001b[1;32m    240\u001b[0m                                           \u001b[0maxis\u001b[0m\u001b[0;34m=\u001b[0m\u001b[0mself\u001b[0m\u001b[0;34m.\u001b[0m\u001b[0maxis\u001b[0m\u001b[0;34m,\u001b[0m\u001b[0;34m\u001b[0m\u001b[0;34m\u001b[0m\u001b[0m\n\u001b[1;32m    241\u001b[0m                                           \u001b[0mdummy\u001b[0m\u001b[0;34m=\u001b[0m\u001b[0mdummy\u001b[0m\u001b[0;34m,\u001b[0m\u001b[0;34m\u001b[0m\u001b[0;34m\u001b[0m\u001b[0m\n\u001b[0;32m--> 242\u001b[0;31m                                           labels=labels)\n\u001b[0m\u001b[1;32m    243\u001b[0m                 \u001b[0;32mreturn\u001b[0m \u001b[0mself\u001b[0m\u001b[0;34m.\u001b[0m\u001b[0mobj\u001b[0m\u001b[0;34m.\u001b[0m\u001b[0m_constructor_sliced\u001b[0m\u001b[0;34m(\u001b[0m\u001b[0mresult\u001b[0m\u001b[0;34m,\u001b[0m \u001b[0mindex\u001b[0m\u001b[0;34m=\u001b[0m\u001b[0mlabels\u001b[0m\u001b[0;34m)\u001b[0m\u001b[0;34m\u001b[0m\u001b[0;34m\u001b[0m\u001b[0m\n\u001b[1;32m    244\u001b[0m             \u001b[0;32mexcept\u001b[0m \u001b[0mException\u001b[0m\u001b[0;34m:\u001b[0m\u001b[0;34m\u001b[0m\u001b[0;34m\u001b[0m\u001b[0m\n",
      "\u001b[0;32mpandas/_libs/reduction.pyx\u001b[0m in \u001b[0;36mpandas._libs.reduction.reduce\u001b[0;34m()\u001b[0m\n",
      "\u001b[0;32mpandas/_libs/reduction.pyx\u001b[0m in \u001b[0;36mpandas._libs.reduction.Reducer.get_result\u001b[0;34m()\u001b[0m\n",
      "\u001b[0;32m<ipython-input-9-7238924da121>\u001b[0m in \u001b[0;36mcalc_stretch_rest_before_after\u001b[0;34m(row)\u001b[0m\n\u001b[1;32m     38\u001b[0m             before_rest = strain_df.loc[\n\u001b[1;32m     39\u001b[0m                 \u001b[0;34m(\u001b[0m\u001b[0mstrain_df\u001b[0m\u001b[0;34m[\u001b[0m\u001b[0;34m'frame'\u001b[0m\u001b[0;34m]\u001b[0m \u001b[0;34m==\u001b[0m \u001b[0mrow\u001b[0m\u001b[0;34m[\u001b[0m\u001b[0;34m'frame'\u001b[0m\u001b[0;34m]\u001b[0m \u001b[0;34m-\u001b[0m \u001b[0;36m1\u001b[0m\u001b[0;34m)\u001b[0m \u001b[0;34m&\u001b[0m\u001b[0;34m\u001b[0m\u001b[0;34m\u001b[0m\u001b[0m\n\u001b[0;32m---> 40\u001b[0;31m                 (strain_df['pair_id'] == row['pair_id'])]['total_dist']\n\u001b[0m\u001b[1;32m     41\u001b[0m             after_rest = strain_df.loc[\n\u001b[1;32m     42\u001b[0m                 \u001b[0;34m(\u001b[0m\u001b[0mstrain_df\u001b[0m\u001b[0;34m[\u001b[0m\u001b[0;34m'frame'\u001b[0m\u001b[0;34m]\u001b[0m \u001b[0;34m==\u001b[0m \u001b[0mrow\u001b[0m\u001b[0;34m[\u001b[0m\u001b[0;34m'frame'\u001b[0m\u001b[0;34m]\u001b[0m \u001b[0;34m+\u001b[0m \u001b[0;36m1\u001b[0m\u001b[0;34m)\u001b[0m \u001b[0;34m&\u001b[0m\u001b[0;34m\u001b[0m\u001b[0;34m\u001b[0m\u001b[0m\n",
      "\u001b[0;32m~/anaconda3/envs/spinningDiskAnalysis/lib/python3.6/site-packages/pandas/core/indexing.py\u001b[0m in \u001b[0;36m__getitem__\u001b[0;34m(self, key)\u001b[0m\n\u001b[1;32m   1476\u001b[0m \u001b[0;34m\u001b[0m\u001b[0m\n\u001b[1;32m   1477\u001b[0m             \u001b[0mmaybe_callable\u001b[0m \u001b[0;34m=\u001b[0m \u001b[0mcom\u001b[0m\u001b[0;34m.\u001b[0m\u001b[0m_apply_if_callable\u001b[0m\u001b[0;34m(\u001b[0m\u001b[0mkey\u001b[0m\u001b[0;34m,\u001b[0m \u001b[0mself\u001b[0m\u001b[0;34m.\u001b[0m\u001b[0mobj\u001b[0m\u001b[0;34m)\u001b[0m\u001b[0;34m\u001b[0m\u001b[0;34m\u001b[0m\u001b[0m\n\u001b[0;32m-> 1478\u001b[0;31m             \u001b[0;32mreturn\u001b[0m \u001b[0mself\u001b[0m\u001b[0;34m.\u001b[0m\u001b[0m_getitem_axis\u001b[0m\u001b[0;34m(\u001b[0m\u001b[0mmaybe_callable\u001b[0m\u001b[0;34m,\u001b[0m \u001b[0maxis\u001b[0m\u001b[0;34m=\u001b[0m\u001b[0maxis\u001b[0m\u001b[0;34m)\u001b[0m\u001b[0;34m\u001b[0m\u001b[0;34m\u001b[0m\u001b[0m\n\u001b[0m\u001b[1;32m   1479\u001b[0m \u001b[0;34m\u001b[0m\u001b[0m\n\u001b[1;32m   1480\u001b[0m     \u001b[0;32mdef\u001b[0m \u001b[0m_is_scalar_access\u001b[0m\u001b[0;34m(\u001b[0m\u001b[0mself\u001b[0m\u001b[0;34m,\u001b[0m \u001b[0mkey\u001b[0m\u001b[0;34m)\u001b[0m\u001b[0;34m:\u001b[0m\u001b[0;34m\u001b[0m\u001b[0;34m\u001b[0m\u001b[0m\n",
      "\u001b[0;32m~/anaconda3/envs/spinningDiskAnalysis/lib/python3.6/site-packages/pandas/core/indexing.py\u001b[0m in \u001b[0;36m_getitem_axis\u001b[0;34m(self, key, axis)\u001b[0m\n\u001b[1;32m   1866\u001b[0m             \u001b[0;32mreturn\u001b[0m \u001b[0mself\u001b[0m\u001b[0;34m.\u001b[0m\u001b[0m_get_slice_axis\u001b[0m\u001b[0;34m(\u001b[0m\u001b[0mkey\u001b[0m\u001b[0;34m,\u001b[0m \u001b[0maxis\u001b[0m\u001b[0;34m=\u001b[0m\u001b[0maxis\u001b[0m\u001b[0;34m)\u001b[0m\u001b[0;34m\u001b[0m\u001b[0;34m\u001b[0m\u001b[0m\n\u001b[1;32m   1867\u001b[0m         \u001b[0;32melif\u001b[0m \u001b[0mcom\u001b[0m\u001b[0;34m.\u001b[0m\u001b[0mis_bool_indexer\u001b[0m\u001b[0;34m(\u001b[0m\u001b[0mkey\u001b[0m\u001b[0;34m)\u001b[0m\u001b[0;34m:\u001b[0m\u001b[0;34m\u001b[0m\u001b[0;34m\u001b[0m\u001b[0m\n\u001b[0;32m-> 1868\u001b[0;31m             \u001b[0;32mreturn\u001b[0m \u001b[0mself\u001b[0m\u001b[0;34m.\u001b[0m\u001b[0m_getbool_axis\u001b[0m\u001b[0;34m(\u001b[0m\u001b[0mkey\u001b[0m\u001b[0;34m,\u001b[0m \u001b[0maxis\u001b[0m\u001b[0;34m=\u001b[0m\u001b[0maxis\u001b[0m\u001b[0;34m)\u001b[0m\u001b[0;34m\u001b[0m\u001b[0;34m\u001b[0m\u001b[0m\n\u001b[0m\u001b[1;32m   1869\u001b[0m         \u001b[0;32melif\u001b[0m \u001b[0mis_list_like_indexer\u001b[0m\u001b[0;34m(\u001b[0m\u001b[0mkey\u001b[0m\u001b[0;34m)\u001b[0m\u001b[0;34m:\u001b[0m\u001b[0;34m\u001b[0m\u001b[0;34m\u001b[0m\u001b[0m\n\u001b[1;32m   1870\u001b[0m \u001b[0;34m\u001b[0m\u001b[0m\n",
      "\u001b[0;32m~/anaconda3/envs/spinningDiskAnalysis/lib/python3.6/site-packages/pandas/core/indexing.py\u001b[0m in \u001b[0;36m_getbool_axis\u001b[0;34m(self, key, axis)\u001b[0m\n\u001b[1;32m   1491\u001b[0m             \u001b[0maxis\u001b[0m \u001b[0;34m=\u001b[0m \u001b[0mself\u001b[0m\u001b[0;34m.\u001b[0m\u001b[0maxis\u001b[0m \u001b[0;32mor\u001b[0m \u001b[0;36m0\u001b[0m\u001b[0;34m\u001b[0m\u001b[0;34m\u001b[0m\u001b[0m\n\u001b[1;32m   1492\u001b[0m         \u001b[0mlabels\u001b[0m \u001b[0;34m=\u001b[0m \u001b[0mself\u001b[0m\u001b[0;34m.\u001b[0m\u001b[0mobj\u001b[0m\u001b[0;34m.\u001b[0m\u001b[0m_get_axis\u001b[0m\u001b[0;34m(\u001b[0m\u001b[0maxis\u001b[0m\u001b[0;34m)\u001b[0m\u001b[0;34m\u001b[0m\u001b[0;34m\u001b[0m\u001b[0m\n\u001b[0;32m-> 1493\u001b[0;31m         \u001b[0mkey\u001b[0m \u001b[0;34m=\u001b[0m \u001b[0mcheck_bool_indexer\u001b[0m\u001b[0;34m(\u001b[0m\u001b[0mlabels\u001b[0m\u001b[0;34m,\u001b[0m \u001b[0mkey\u001b[0m\u001b[0;34m)\u001b[0m\u001b[0;34m\u001b[0m\u001b[0;34m\u001b[0m\u001b[0m\n\u001b[0m\u001b[1;32m   1494\u001b[0m         \u001b[0minds\u001b[0m\u001b[0;34m,\u001b[0m \u001b[0;34m=\u001b[0m \u001b[0mkey\u001b[0m\u001b[0;34m.\u001b[0m\u001b[0mnonzero\u001b[0m\u001b[0;34m(\u001b[0m\u001b[0;34m)\u001b[0m\u001b[0;34m\u001b[0m\u001b[0;34m\u001b[0m\u001b[0m\n\u001b[1;32m   1495\u001b[0m         \u001b[0;32mtry\u001b[0m\u001b[0;34m:\u001b[0m\u001b[0;34m\u001b[0m\u001b[0;34m\u001b[0m\u001b[0m\n",
      "\u001b[0;32m~/anaconda3/envs/spinningDiskAnalysis/lib/python3.6/site-packages/pandas/core/indexing.py\u001b[0m in \u001b[0;36mcheck_bool_indexer\u001b[0;34m(ax, key)\u001b[0m\n\u001b[1;32m   2364\u001b[0m         \u001b[0;31m# is_bool_indexer has already checked for nulls in the case of an\u001b[0m\u001b[0;34m\u001b[0m\u001b[0;34m\u001b[0m\u001b[0;34m\u001b[0m\u001b[0m\n\u001b[1;32m   2365\u001b[0m         \u001b[0;31m# object array key, so no check needed here\u001b[0m\u001b[0;34m\u001b[0m\u001b[0;34m\u001b[0m\u001b[0;34m\u001b[0m\u001b[0m\n\u001b[0;32m-> 2366\u001b[0;31m         \u001b[0mresult\u001b[0m \u001b[0;34m=\u001b[0m \u001b[0mnp\u001b[0m\u001b[0;34m.\u001b[0m\u001b[0masarray\u001b[0m\u001b[0;34m(\u001b[0m\u001b[0mresult\u001b[0m\u001b[0;34m,\u001b[0m \u001b[0mdtype\u001b[0m\u001b[0;34m=\u001b[0m\u001b[0mbool\u001b[0m\u001b[0;34m)\u001b[0m\u001b[0;34m\u001b[0m\u001b[0;34m\u001b[0m\u001b[0m\n\u001b[0m\u001b[1;32m   2367\u001b[0m \u001b[0;34m\u001b[0m\u001b[0m\n\u001b[1;32m   2368\u001b[0m     \u001b[0;32mreturn\u001b[0m \u001b[0mresult\u001b[0m\u001b[0;34m\u001b[0m\u001b[0;34m\u001b[0m\u001b[0m\n",
      "\u001b[0;32m~/anaconda3/envs/spinningDiskAnalysis/lib/python3.6/site-packages/numpy/core/numeric.py\u001b[0m in \u001b[0;36masarray\u001b[0;34m(a, dtype, order)\u001b[0m\n\u001b[1;32m    431\u001b[0m \u001b[0;34m\u001b[0m\u001b[0m\n\u001b[1;32m    432\u001b[0m \u001b[0;34m\u001b[0m\u001b[0m\n\u001b[0;32m--> 433\u001b[0;31m \u001b[0;32mdef\u001b[0m \u001b[0masarray\u001b[0m\u001b[0;34m(\u001b[0m\u001b[0ma\u001b[0m\u001b[0;34m,\u001b[0m \u001b[0mdtype\u001b[0m\u001b[0;34m=\u001b[0m\u001b[0;32mNone\u001b[0m\u001b[0;34m,\u001b[0m \u001b[0morder\u001b[0m\u001b[0;34m=\u001b[0m\u001b[0;32mNone\u001b[0m\u001b[0;34m)\u001b[0m\u001b[0;34m:\u001b[0m\u001b[0;34m\u001b[0m\u001b[0;34m\u001b[0m\u001b[0m\n\u001b[0m\u001b[1;32m    434\u001b[0m     \"\"\"Convert the input to an array.\n\u001b[1;32m    435\u001b[0m \u001b[0;34m\u001b[0m\u001b[0m\n",
      "\u001b[0;31mKeyboardInterrupt\u001b[0m: "
     ]
    },
    {
     "data": {
      "image/png": "[encoded data removed]",
      "text/plain": [
       "<Figure size 720x360 with 2 Axes>"
      ]
     },
     "metadata": {
      "needs_background": "light"
     },
     "output_type": "display_data"
    }
   ],
   "source": [
    "# make strain plots for previously selected trials\n",
    "y_coords_to_sampled = np.arange(-1000,1000,1)\n",
    "sampled_strain_df = pd.DataFrame()\n",
    "actuator_strain_df = pd.DataFrame()\n",
    "fig, axes = plt.subplots(figsize=(5 * len(worm_strains) ,5), ncols=len(worm_strains))\n",
    "fig.suptitle('Strain centered on actuator', fontsize=16)\n",
    "ax_index = 0\n",
    "n_trials = trials_with_strain_and_actuator.shape[0]\n",
    "for genotype in worm_strains:\n",
    "    for index, row in trials_with_strain_and_actuator.loc[\n",
    "            trials_with_strain_and_actuator['worm_strain'] == genotype].iterrows():\n",
    "        experiment_id = row['Experiment_id']\n",
    "    #     print('Working on', experiment_id)\n",
    "        metadata = trials_with_strain_and_actuator.loc[all_metadata['Experiment_id'] == experiment_id]\n",
    "\n",
    "        strain_file = analyzed_data_dir + experiment_id + '/strain.yaml'\n",
    "        with open(strain_file, 'r') as yamlfile: \n",
    "            strain_df = yaml.safe_load(yamlfile)\n",
    "        strain_df = pd.DataFrame(strain_df)\n",
    "\n",
    "        linked_mitos_file = analyzed_data_dir + experiment_id + '/mito_locations.yaml'\n",
    "        with open(linked_mitos_file, 'r') as yamlfile:\n",
    "            linked_mitos_df = yaml.safe_load(yamlfile)\n",
    "        linked_mitos_df = pd.DataFrame.from_dict(linked_mitos_df)\n",
    "\n",
    "        plot_strain_centered_on_actuator(strain_df, linked_mitos_df,\n",
    "                                         metadata, 'before_after_strain', axes[ax_index])\n",
    "        \n",
    "\n",
    "        for frame in linked_mitos_df.loc[linked_mitos_df['pressure']==300]['frame'].unique():\n",
    "            sampled_strain_df = pd.concat([sampled_strain_df, sample_strain(linked_mitos_df=linked_mitos_df,\n",
    "                                           metadata_df=metadata,\n",
    "                                           y_coords=y_coords_to_sampled,\n",
    "                                           frame_num=frame,\n",
    "                                           strain_calc_opt=['before_after_strain','before_after_stretch'])],\n",
    "                                          ignore_index=True, sort=False)\n",
    "        actuator_strain_df = pd.concat([actuator_strain_df,\n",
    "                                        sampled_strain_df.loc[sampled_strain_df['y_coord'] == 0]],\n",
    "                                           ignore_index=True, sort=False)\n",
    "    axes[ax_index].set_ylabel('strain')\n",
    "    axes[ax_index].set_title(allele_dict[genotype])\n",
    "    ax_index += 1\n",
    "\n",
    "\n",
    "fig.savefig(fig_save_dir + current_neuron + '/aggregatedStrain_noSampling.png')"
   ]
  },
  {
   "cell_type": "code",
   "execution_count": null,
   "metadata": {},
   "outputs": [],
   "source": [
    "strain_df.head()"
   ]
  },
  {
   "cell_type": "code",
   "execution_count": null,
   "metadata": {},
   "outputs": [],
   "source": [
    "linked_mitos_df.head()\n"
   ]
  },
  {
   "cell_type": "code",
   "execution_count": null,
   "metadata": {},
   "outputs": [],
   "source": [
    "sampled_strain_df.shape"
   ]
  },
  {
   "cell_type": "code",
   "execution_count": null,
   "metadata": {},
   "outputs": [],
   "source": [
    "sns.set_style('white')\n",
    "\n",
    "fig3, ax3 = plt.subplots(figsize=(10,5))\n",
    "sns.lineplot(x='y_dist', y='before_after_stretch', data=sampled_strain_df, hue='worm_strain')\n",
    "# n_trials_text = mpl.offsetbox.AnchoredText('n =' + str(n_trials), loc=\"upper right\", frameon=False)\n",
    "# ax3.add_artist(n_trials_text)\n",
    "sns.despine(ax=ax3, offset=10)\n",
    "h, labels = ax3.get_legend_handles_labels()\n",
    "labels = [(allele_dict[label] + ', n=' + str(n_trials_dict[label])) if label in allele_dict else 'Allele' for label in labels]\n",
    "ax3.legend(h, labels)\n",
    "ax3.set(xlabel='Distance from center of actuator (um)', ylabel='Stretch (um)',\n",
    "        title=('Sampled stretch for ' + current_neuron))# + ' of ' + allele_dict[current_worm_strain]))\n",
    "\n",
    "fig3.savefig(fig_save_dir + current_neuron + '/sampled_stretch.png')"
   ]
  },
  {
   "cell_type": "code",
   "execution_count": null,
   "metadata": {},
   "outputs": [],
   "source": [
    "fig4, ax4 = plt.subplots(figsize=(10,5))\n",
    "sns.lineplot(x='y_dist', y='before_after_strain', data=sampled_strain_df, \n",
    "             legend='brief', hue='worm_strain')\n",
    "# n_trials_text = mpl.offsetbox.AnchoredText('n =' + str(n_trials), loc=\"upper right\", frameon=False)\n",
    "# ax4.add_artist(n_trials_text)\n",
    "sns.despine(offset=10)\n",
    "h, labels = ax4.get_legend_handles_labels()\n",
    "labels = [(allele_dict[label] + ', n=' + str(n_trials_dict[label])) if label in allele_dict else 'Allele' for label in labels]\n",
    "ax4.legend(h, labels)\n",
    "ax4.set(xlabel='Distance from center of actuator (um)', ylabel='Strain',\n",
    "        title=('Sampled strain for ' + current_neuron))# + ' of ' + allele_dict[current_worm_strain]))\n",
    "fig4.savefig(fig_save_dir + current_neuron + '/sampled_strain.png')"
   ]
  },
  {
   "cell_type": "code",
   "execution_count": null,
   "metadata": {},
   "outputs": [],
   "source": [
    "# dash_styles = [\"\", \"\", \"\", \"\", \"\", \"\", \"\", \"\", \n",
    "#                (4, 1.5), (4, 1.5), (4, 1.5), (4, 1.5), (4, 1.5), (4, 1.5), (4, 1.5), (4, 1.5),\n",
    "#                (1.5, 1.5), (1.5, 1.5), (1.5, 1.5), (1.5, 1.5), (1.5, 1.5), (1.5, 1.5), (1.5, 1.5), (1.5, 1.5), ]\n",
    "# fig5, ax5 = plt.subplots(figsize=(10,5))\n",
    "# sns.lineplot(x='y_dist', y='before_after_strain', data=sampled_strain_df, hue='worm_strain',\n",
    "#              style='experiment_id', legend='brief', palette='Dark2', dashes=dash_styles)\n",
    "\n",
    "# # n_trials_text = mpl.offsetbox.AnchoredText('n =' + str(n_trials), loc=\"upper right\", frameon=False)\n",
    "# # ax5.add_artist(n_trials_text)\n",
    "# sns.despine(offset=10)\n",
    "# h, labels = ax5.get_legend_handles_labels()\n",
    "# labels = [(allele_dict[label] + ', n=' + str(n_trials_dict[label])) if label in allele_dict else 'Allele' for label in labels]\n",
    "# ax5.legend(h, labels)\n",
    "# plt.legend(bbox_to_anchor=(1.05, 1), borderaxespad=0.)\n",
    "\n",
    "# ax5.set(xlabel='Distance from center of actuator (um)', ylabel='Strain',\n",
    "#         title=('Strain for ' + current_neuron))# + ' of ' + allele_dict[current_worm_strain]))\n",
    "# fig5.savefig(fig_save_dir + current_neuron + '/sampled_strain_by_exp.png')"
   ]
  },
  {
   "cell_type": "code",
   "execution_count": null,
   "metadata": {},
   "outputs": [],
   "source": [
    "sampled_strain_anterior_section = sampled_strain_df.loc[(sampled_strain_df['y_dist'] < -35) &\n",
    "                                                        (sampled_strain_df['y_dist'] > -80)]\n",
    "fig6, ax6 = plt.subplots()\n",
    "sns.lineplot(x='y_dist', y='before_after_strain', data=sampled_strain_anterior_section,\n",
    "             hue='experiment_id', style='experiment_id', legend='brief', palette='Dark2', dashes=dash_styles,\n",
    "             ci=None)\n",
    "# n_trials_text = mpl.offsetbox.AnchoredText('n =' + str(n_trials), loc=\"upper right\", frameon=False)\n",
    "plt.legend(bbox_to_anchor=(1.05, 1), borderaxespad=0.)\n",
    "\n",
    "# ax6.add_artist(n_trials_text)\n",
    "sns.despine(offset=10)\n",
    "ax6.set_label('strain')"
   ]
  },
  {
   "cell_type": "markdown",
   "metadata": {},
   "source": [
    "There's something weird with the anterior side of the plot. I need to check out the raw data and see if the particle localization is working properly. Start with SSN_148, SSN_162, and SSN_166."
   ]
  },
  {
   "cell_type": "markdown",
   "metadata": {},
   "source": [
    "### Strain at middle of the actuator"
   ]
  },
  {
   "cell_type": "code",
   "execution_count": null,
   "metadata": {},
   "outputs": [],
   "source": [
    "# sampled_strain_df.loc[sampled_strain_df['y_coord'] == 0]"
   ]
  },
  {
   "cell_type": "code",
   "execution_count": null,
   "metadata": {},
   "outputs": [],
   "source": [
    "fig7, ax7 = plt.subplots()\n",
    "sns.boxplot(x='worm_strain', y='before_after_strain',\n",
    "               data=sampled_strain_df.loc[sampled_strain_df['y_coord'] == 0])\n",
    "sns.swarmplot(x='worm_strain', y='before_after_strain', color=\".25\",\n",
    "               data=sampled_strain_df.loc[sampled_strain_df['y_coord'] == 0])"
   ]
  },
  {
   "cell_type": "code",
   "execution_count": null,
   "metadata": {},
   "outputs": [],
   "source": [
    "sampled_strain_df.head()"
   ]
  },
  {
   "cell_type": "markdown",
   "metadata": {},
   "source": [
    "## Contour Length of TRN\n",
    "When the actuator is active, the overall length of the neuron increases while stretching. Krieg et al. (2017) used this measurement to explore the effect of TRN position on mechanical strain due to normal locomotion of a worm."
   ]
  },
  {
   "cell_type": "code",
   "execution_count": null,
   "metadata": {},
   "outputs": [],
   "source": [
    "def plot_total_neuron_length_change(metadata_df: pd.DataFrame,\n",
    "                                    ax: mpl.axes.Axes=None):\n",
    "    mean_length_no_pressure = []\n",
    "    mean_length_300kPa = []\n",
    "    for index, row in metadata_df.iterrows():\n",
    "        experiment_id = row['Experiment_id']\n",
    "        metadata = trials_with_strain_and_actuator.loc[metadata_df['Experiment_id'] == experiment_id]\n",
    "\n",
    "        strain_file = pathlib.Path(analyzed_data_dir, experiment_id, 'strain.yaml')\n",
    "        with open(strain_file, 'r') as yamlfile:\n",
    "            strain_df = yaml.safe_load(yamlfile)\n",
    "        strain_df = pd.DataFrame(strain_df)\n",
    "        \n",
    "        total_dist = strain_df.groupby(['frame'])['total_dist'].sum()\n",
    "        pressure = strain_df.groupby(['frame'])['pressure'].max()\n",
    "        avg_dist_by_pressure = strain_df.groupby(['pressure']).mean()\n",
    "        TRN_length_and_pressure = pd.DataFrame([total_dist, pressure]).transpose()\n",
    "#         print(avg_dist_by_pressure)\n",
    "#         print(total_dist)\n",
    "        mean_length_no_pressure.append(\n",
    "            TRN_length_and_pressure.loc[TRN_length_and_pressure[\n",
    "                'pressure'] == 0]['total_dist'].mean())\n",
    "        mean_length_300kPa.append(\n",
    "            TRN_length_and_pressure.loc[TRN_length_and_pressure[\n",
    "                'pressure'] == 300]['total_dist'].mean())\n",
    "        \n",
    "#         if ax is None:\n",
    "#             fig, ax = plt.subplots()\n",
    "#             plot_title = metadata.loc[:,'Experiment_id'].values[0]\n",
    "#         else:\n",
    "#             plot_title = None\n",
    "\n",
    "        \n",
    "#         TRN_length_and_pressure.boxplot(column=['total_dist'], by='pressure', ax=ax)\n",
    "#         display(TRN_length_and_pressure)\n",
    "        \n",
    "        \n",
    "#         TRN_length_and_pressure.loc[TRN_length_and_pressure['pressure'] == 300].boxplot(column=['total_dist'])\n",
    "#         linked_mitos_df.loc[linked_mitos_df['pressure'] == 0].groupby(['frame']).plot(\n",
    "#                 x='corrected_y', y=plot_axes,\n",
    "#                 color='#e66101', kind='scatter', ax=ax)\n",
    "#         linked_mitos_df.loc[linked_mitos_df['pressure'] == 300].groupby(['frame']).plot(\n",
    "#                     x='corrected_y', y=plot_axes, title=plot_title,\n",
    "#                     color='#5e3c99', kind='scatter', ax=ax)\n",
    "    mean_length_no_pressure = np.array(mean_length_no_pressure)\n",
    "    mean_length_300kPa = np.array(mean_length_300kPa)\n",
    "    fig, ax = plt.subplots()\n",
    "    ax.boxplot([mean_length_300kPa - mean_length_no_pressure])#, labels=['300 kPa', '0 kPa'])\n",
    "    ax.set_ylabel('Measured TRN length change in pixels')\n",
    "\n",
    "plot_total_neuron_length_change(trials_with_strain_and_actuator)"
   ]
  },
  {
   "cell_type": "code",
   "execution_count": null,
   "metadata": {},
   "outputs": [],
   "source": [
    "metadata"
   ]
  },
  {
   "cell_type": "markdown",
   "metadata": {},
   "source": [
    "## Displacement profile fitting\n",
    "Most mechanical models use continuous, differentiable functions, but the empirical data we have is discontinuous. One way to solve this problem is to fit the data with a continuous curve. Our data is also pretty sparse, because there are not many mitochondria in a given TRN. \n",
    "\n",
    "To get around this problem, I am first fitting different types of curves to the pooled, normalized displacement measurements, and choosing the best function to fit based on statistical goodness of fit tests. Next, I use the function that provides the best fit to fit individual trials and get a continuous, differentiable representation of the displacement of mitochondria in the trial.\n",
    "\n",
    "Open questions: \n",
    "- What is the best way to normalize? Should I use the largest measured value, even though it might not be the largest displacement of the neuron if the mitochondrion was not in the center of the actuator? Should I instead fit the individual trials and use the max value of the fit?"
   ]
  },
  {
   "cell_type": "code",
   "execution_count": null,
   "metadata": {},
   "outputs": [],
   "source": [
    "def fit_pooled_displacements(metadata_df: pd.DataFrame):\n",
    "    pass\n",
    "    # for each trial\n",
    "        # load linked_mitos\n",
    "        # subtract off rest position for all three dimensions\n",
    "        # normalize to largest displacement\n",
    "        # add to pooled data\n",
    "    \n",
    "    # for each function to fit\n",
    "        # calculate least squares fit\n",
    "        # calculate goodness of fit\n",
    "        # plot fit with pooled data\n",
    "        \n",
    "    # return name of function that fits best"
   ]
  },
  {
   "cell_type": "markdown",
   "metadata": {},
   "source": [
    "## Testing functions to make sure analysis works properly"
   ]
  },
  {
   "cell_type": "code",
   "execution_count": null,
   "metadata": {},
   "outputs": [],
   "source": [
    "# import unittest\n",
    "\n",
    "# class TestDataframeBuilders(unittest.TestCase):\n",
    "        \n",
    "#     def setUp(self):\n",
    "#         self.analyzed_data_dir = '/Users/adam/Documents/SenseOfTouchResearch/SSN_ImageAnalysis/AnalyzedData/'\n",
    "#         self.all_metadata = get_experiment_df(self.analyzed_data_dir)\n",
    "#         self.test_cases = 'SSN_120_001'\n",
    "\n",
    "#     def test_make_trial_df(self):\n",
    "#         for exp_id in self.test_cases:\n",
    "#             this_trial_mitos = make_trial_df(exp_id, self.all_metadata)\n",
    "            \n",
    "\n",
    "\n",
    "\n",
    "\n",
    "# unittest.main(argv=[''], verbosity=2, exit=False)"
   ]
  }
 ],
 "metadata": {
  "kernelspec": {
   "display_name": "Python [conda env:spinningDiskAnalysis]",
   "language": "python",
   "name": "conda-env-spinningDiskAnalysis-py"
  },
  "language_info": {
   "codemirror_mode": {
    "name": "ipython",
    "version": 3
   },
   "file_extension": ".py",
   "mimetype": "text/x-python",
   "name": "python",
   "nbconvert_exporter": "python",
   "pygments_lexer": "ipython3",
   "version": "3.6.7"
  }
 },
 "nbformat": 4,
 "nbformat_minor": 2
}
