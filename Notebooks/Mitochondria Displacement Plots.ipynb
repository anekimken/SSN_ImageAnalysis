{
 "cells": [
  {
   "cell_type": "markdown",
   "metadata": {},
   "source": [
    "# Mitochondria Displacement Plots\n",
    "Script that goes through analyzed data and makes plots of mitochondria displacements\n",
    "### File location parameters"
   ]
  },
  {
   "cell_type": "code",
   "execution_count": 1,
   "metadata": {},
   "outputs": [],
   "source": [
    "analyzed_data_dir = '/Users/adam/Documents/SenseOfTouchResearch/SSN_ImageAnalysis/AnalyzedData/'"
   ]
  },
  {
   "cell_type": "markdown",
   "metadata": {},
   "source": [
    "### Import packages"
   ]
  },
  {
   "cell_type": "code",
   "execution_count": 2,
   "metadata": {},
   "outputs": [],
   "source": [
    "import yaml\n",
    "import pandas as pd\n",
    "import matplotlib as mpl\n",
    "import matplotlib.pyplot as plt\n",
    "from scipy.spatial import distance\n",
    "from scipy import stats\n",
    "import warnings\n",
    "import glob\n",
    "import numpy as np\n",
    "import typing\n",
    "import pathlib\n",
    "import seaborn as sns"
   ]
  },
  {
   "cell_type": "markdown",
   "metadata": {},
   "source": [
    "### Functions for creating dataframes"
   ]
  },
  {
   "cell_type": "code",
   "execution_count": 3,
   "metadata": {},
   "outputs": [],
   "source": [
    "def get_experiment_df(analyzed_data_dir):\n",
    "    analyzed_trials = glob.iglob(analyzed_data_dir + '*')\n",
    "    all_metadata = []\n",
    "    for trial in analyzed_trials:\n",
    "        try:\n",
    "            with open(trial + '/metadata.yaml') as metadata_file:\n",
    "                all_metadata.append(yaml.safe_load(metadata_file))\n",
    "        except FileNotFoundError:\n",
    "            pass\n",
    "        except NotADirectoryError:\n",
    "            pass\n",
    "\n",
    "    metadata_df = pd.DataFrame(all_metadata)\n",
    "    \n",
    "    return metadata_df\n"
   ]
  },
  {
   "cell_type": "markdown",
   "metadata": {},
   "source": [
    "### Functions for manipulating dataframes"
   ]
  },
  {
   "cell_type": "code",
   "execution_count": 4,
   "metadata": {},
   "outputs": [],
   "source": [
    "def calc_x_distance(row):\n",
    "    return distance.euclidean([row['x']], [row['x_rest']])\n",
    "\n",
    "def calc_xz_distance(row):\n",
    "    return distance.euclidean([row['x'], row['z']], [row['x_rest'], row['z_rest']])\n",
    "\n",
    "def calc_xyz_distance(row):\n",
    "    return distance.euclidean([row['x'], row['y'], row['z']], [row['x_rest'],  row['y_rest'], row['z_rest']])\n",
    "\n",
    "# def calc_x_stretch(row):\n",
    "#     print('calc_x_stretch function not implemented')\n",
    "# #     return distance.euclidean([row['x']], [row['x_rest']])\n",
    "\n",
    "# def calc_xz_stretch(row):\n",
    "#     print('calc_xz_stretch function not implemented')\n",
    "# #     return distance.euclidean([row['x'], row['z']], [row['x_rest'], row['z_rest']])\n",
    "\n",
    "# def calc_xyz_stretch(row):\n",
    "#     print('calc_xyz_stretch function not implemented')\n",
    "# #     return distance.euclidean([row['x'], row['y'], row['z']], [row['x_rest'],  row['y_rest'], row['z_rest']])\n",
    "\n",
    "# def calc_x_strain(row):\n",
    "#     print('calc_x_strain function not implemented')\n",
    "# #     return distance.euclidean([row['x']], [row['x_rest']])\n",
    "\n",
    "# def calc_xz_strain(row):\n",
    "#     print('calc_xz_strain function not implemented')\n",
    "# #     return distance.euclidean([row['x'], row['z']], [row['x_rest'], row['z_rest']])\n",
    "\n",
    "# def calc_xyz_strain(row):\n",
    "#     print('calc_xyz_strain function not implemented')\n",
    "# #     return distance.euclidean([row['x'], row['y'], row['z']], [row['x_rest'],  row['y_rest'], row['z_rest']])"
   ]
  },
  {
   "cell_type": "markdown",
   "metadata": {},
   "source": [
    "### Function for plotting"
   ]
  },
  {
   "cell_type": "code",
   "execution_count": 5,
   "metadata": {},
   "outputs": [],
   "source": [
    "def plot_disp_centered_on_actuator(linked_mitos_df: pd.DataFrame,\n",
    "                                   metadata_df: pd.DataFrame,\n",
    "                                   disp_component: str,\n",
    "                                   ax: mpl.axes.Axes=None,\n",
    "                                   normalization: bool=False):\n",
    "    actuator_center_coords = metadata_df['actuator_center'].apply(pd.Series).stack()\n",
    "    if metadata_df['head_orientation'].str.contains('Headfirst').all():\n",
    "        worm_head_direction = -1\n",
    "    elif metadata_df['head_orientation'].str.contains('Tailfirst').all():\n",
    "        worm_head_direction = 1\n",
    "    else:\n",
    "        raise ValueError\n",
    "    linked_mitos_df['corrected_y'] = worm_head_direction * (linked_mitos_df['y'] - actuator_center_coords[1])\n",
    "    linked_mitos_df['x_disp'] = linked_mitos_df.apply(calc_x_distance, axis=1)\n",
    "    linked_mitos_df['xz_disp'] = linked_mitos_df.apply(calc_xz_distance, axis=1)\n",
    "    linked_mitos_df['xyz_disp'] = linked_mitos_df.apply(calc_xyz_distance, axis=1)\n",
    "    \n",
    "    plot_axes = disp_component + '_disp'\n",
    "    \n",
    "    if normalization is True:\n",
    "        linked_mitos_df[plot_axes + '_normalized']=(linked_mitos_df[plot_axes]/linked_mitos_df[plot_axes].max())\n",
    "        plot_axes += '_normalized'\n",
    "    \n",
    "    if ax is None:\n",
    "        fig, ax = plt.subplots()\n",
    "        plot_title = metadata_df.loc[:,'Experiment_id'].values[0]\n",
    "    else:\n",
    "        plot_title = None\n",
    "\n",
    "    linked_mitos_df.loc[linked_mitos_df['pressure'] == 0].groupby(['frame']).plot(\n",
    "            x='corrected_y', y=plot_axes,\n",
    "            color='red', kind='scatter', ax=ax)\n",
    "    linked_mitos_df.loc[linked_mitos_df['pressure'] == 300].groupby(['frame']).plot(\n",
    "                x='corrected_y', y=plot_axes, title=plot_title,\n",
    "                color='green', kind='scatter', ax=ax)\n"
   ]
  },
  {
   "cell_type": "code",
   "execution_count": 6,
   "metadata": {},
   "outputs": [
    {
     "data": {
      "image/png": "[encoded data removed]",
      "text/plain": [
       "<Figure size 432x288 with 1 Axes>"
      ]
     },
     "metadata": {
      "needs_background": "light"
     },
     "output_type": "display_data"
    },
    {
     "data": {
      "image/png": "[encoded data removed]",
      "text/plain": [
       "<Figure size 432x288 with 1 Axes>"
      ]
     },
     "metadata": {
      "needs_background": "light"
     },
     "output_type": "display_data"
    }
   ],
   "source": [
    "# get all the metadata\n",
    "all_metadata = get_experiment_df(analyzed_data_dir)\n",
    "# select only the trials we want\n",
    "trials_with_strain_and_actuator = all_metadata.loc[(all_metadata['analysis_status'] == 'Strain calculated') &\n",
    "                                                   (all_metadata['actuator_center'].notnull()) &\n",
    "                                                   (all_metadata['worm_strain'] == 'NM3573') &\n",
    "                                                   (all_metadata['neuron'] == 'ALM')]\n",
    "# make plots for those trials\n",
    "fig, ax = plt.subplots()\n",
    "fig2, ax2 = plt.subplots()\n",
    "for index, row in trials_with_strain_and_actuator.iterrows():\n",
    "    experiment_id = row['Experiment_id']\n",
    "    metadata = trials_with_strain_and_actuator.loc[all_metadata['Experiment_id'] == experiment_id]\n",
    "\n",
    "    strain_file = analyzed_data_dir + experiment_id + '/strain.yaml'\n",
    "    with open(strain_file, 'r') as yamlfile:\n",
    "        strain_df = yaml.safe_load(yamlfile)\n",
    "    strain_df = pd.DataFrame(strain_df)\n",
    "\n",
    "    linked_mitos_file = analyzed_data_dir + experiment_id + '/mito_locations.yaml'\n",
    "    with open(linked_mitos_file, 'r') as yamlfile:\n",
    "        linked_mitos_df = yaml.safe_load(yamlfile)\n",
    "    linked_mitos_df = pd.DataFrame.from_dict(linked_mitos_df)\n",
    "    \n",
    "    plot_disp_centered_on_actuator(linked_mitos_df, metadata, 'x', ax)\n",
    "    plot_disp_centered_on_actuator(linked_mitos_df, metadata, 'x', ax2, True)\n",
    "#     plot_disp_centered_on_actuator(linked_mitos_df, metadata, 'x')\n",
    "#     plot_disp_centered_on_actuator(linked_mitos_df, metadata, 'xz', ax)\n",
    "#     plot_disp_centered_on_actuator(linked_mitos_df, metadata, 'xyz')\n",
    "\n",
    "# fig.savefig(analyzed_data_dir + 'aggregatedDataFig.png')\n"
   ]
  },
  {
   "cell_type": "markdown",
   "metadata": {},
   "source": [
    "## Strain plots\n",
    "Strain is really what we'd like to know, since it quantifies the deformation of the neuron. It can be calculated according to: \n",
    "\n",
    "$\\epsilon = \\frac{L - L_0}{L_0}$\n",
    "\n",
    "Where $L$ is the current length of the object and $L_0$ is the undeformed length. A strain measurement is thus particularly sensitive to the choice of an undeformed configuration. For the sparse, noisy data we have, a few choices are:\n",
    "\n",
    "1. Use the average of all lengths between the same pair of mitochondria in the condition where pressure=0\n",
    "2. Use the length between the same pair of mitochondria in the stack immediately preceding the actuation\n",
    "3. Use the averate lengths between the same pair of mitochondria in the stack immediately before and after the actuation\n",
    "\n",
    "### Strain calcs with different reference distances"
   ]
  },
  {
   "cell_type": "code",
   "execution_count": 7,
   "metadata": {},
   "outputs": [],
   "source": [
    "'''Option 1 above already in the strain_df since I do it that way in spyder'''\n",
    "\n",
    "def calc_strain_rest_before(row):\n",
    "    '''Option 2 above'''\n",
    "    if row['pressure'] != 0:\n",
    "        before_rest = strain_df.loc[\n",
    "            (strain_df['frame'] == row['frame'] - 1) &\n",
    "            (strain_df['pair_id'] == row['pair_id'])]['total_dist'].values\n",
    "        before_strain = (row['total_dist'] - before_rest) / before_rest\n",
    "    else:\n",
    "        before_strain = 0\n",
    "    return float(before_strain)\n",
    "\n",
    "def calc_strain_rest_before_after(row):\n",
    "    '''Option 3 above'''\n",
    "    if row['frame'] < strain_df['frame'].max():\n",
    "        if row['pressure'] != 0:\n",
    "            before_rest = strain_df.loc[\n",
    "                (strain_df['frame'] == row['frame'] - 1) &\n",
    "                (strain_df['pair_id'] == row['pair_id'])]['total_dist']\n",
    "            after_rest = strain_df.loc[\n",
    "                (strain_df['frame'] == row['frame'] + 1) &\n",
    "                (strain_df['pair_id'] == row['pair_id'])]['total_dist']\n",
    "            rest = np.mean([before_rest.values, after_rest.values])\n",
    "            before_after_strain = (row['total_dist'] - rest) / rest\n",
    "        else:\n",
    "            before_after_strain = 0\n",
    "    else:\n",
    "        before_after_strain = None\n",
    "        \n",
    "#     print(type(before_after_strain), before_after_strain)\n",
    "    return before_after_strain\n",
    "\n",
    "# strain_df['before_strain'] = strain_df.apply(calc_strain_rest_before, axis=1)\n",
    "# strain_df['before_after_strain'] = strain_df.apply(calc_strain_rest_before_after, axis=1)\n",
    "# strain_df=strain_df.astype(float)\n",
    "# strain_df.loc[strain_df['pressure'] != 0].plot(x='pair_id', y='before_after_strain', drawstyle=\"steps\")"
   ]
  },
  {
   "cell_type": "markdown",
   "metadata": {},
   "source": [
    "### Functions for plotting strain"
   ]
  },
  {
   "cell_type": "code",
   "execution_count": 22,
   "metadata": {},
   "outputs": [],
   "source": [
    "def plot_strain_centered_on_actuator(strain_df: pd.DataFrame,\n",
    "                                     linked_mitos_df: pd.DataFrame,\n",
    "                                     metadata_df: pd.DataFrame,\n",
    "                                     strain_calc_opt: str='strain',\n",
    "                                     ax: mpl.axes.Axes=None):\n",
    "    actuator_center_coords = metadata_df['actuator_center'].apply(pd.Series).stack()\n",
    "    if metadata['head_orientation'].str.contains('Headfirst').all():\n",
    "        worm_head_direction = -1\n",
    "    elif metadata['head_orientation'].str.contains('Tailfirst').all():\n",
    "        worm_head_direction = 1\n",
    "    else:\n",
    "        raise ValueError\n",
    "        \n",
    "    strain_df['before_strain'] = strain_df.apply(calc_strain_rest_before, axis=1)\n",
    "    strain_df['before_after_strain'] = strain_df.apply(calc_strain_rest_before_after, axis=1) \n",
    "    linked_mitos_df['corrected_y'] = worm_head_direction * (linked_mitos_df['y'] - actuator_center_coords[1])\n",
    "    corrected_y_vals = []\n",
    "    for index, row in strain_df.iterrows():\n",
    "        corrected_y_vals.append(linked_mitos_df.loc[\n",
    "                (linked_mitos_df['frame'] == row['frame']) &\n",
    "                (linked_mitos_df['particle'] == row['particle_1'])]['corrected_y'].values[0])\n",
    "    strain_df['corrected_y'] = corrected_y_vals\n",
    "\n",
    "    if ax is None:\n",
    "        fig, ax = plt.subplots()\n",
    "        plot_title = metadata_df.loc[:,'Experiment_id'].values[0]\n",
    "    else:\n",
    "        plot_title = 'All selected trials'\n",
    "\n",
    "    plot_spec = {'x': 'corrected_y',\n",
    "                 'y': strain_calc_opt,\n",
    "                 'alpha': 0.25,\n",
    "                 'ax': ax,\n",
    "                 'drawstyle': 'steps',\n",
    "                 'title': plot_title,\n",
    "                 'figsize': (10, 5)}\n",
    "    strain_df.loc[strain_df['pressure'] == 0].groupby(['frame']).plot(\n",
    "            **plot_spec, color='red')\n",
    "    strain_df.loc[strain_df['pressure'] == 300].groupby(['frame']).plot(\n",
    "            **plot_spec, color='green')\n",
    "    ax.get_legend().remove()\n",
    "    ax.set_ylabel(strain_calc_opt)\n",
    "    \n",
    "def sample_strain(linked_mitos_df: pd.DataFrame,\n",
    "                  metadata_df: pd.DataFrame,\n",
    "                  y_coords: np.ndarray,\n",
    "                  frame_num: int,\n",
    "                  strain_calc_opt: str='strain') -> pd.DataFrame:\n",
    "    '''Samples piecwise strain for later averaging'''\n",
    "    actuator_center_coords = metadata_df['actuator_center'].apply(pd.Series).stack()\n",
    "    if metadata['head_orientation'].str.contains('Headfirst').all():\n",
    "        worm_head_direction = -1\n",
    "    elif metadata['head_orientation'].str.contains('Tailfirst').all():\n",
    "        worm_head_direction = 1\n",
    "    else:\n",
    "        raise ValueError\n",
    "    strain_df['before_strain'] = strain_df.apply(calc_strain_rest_before, axis=1)\n",
    "    strain_df['before_after_strain'] = strain_df.apply(calc_strain_rest_before_after, axis=1) \n",
    "    linked_mitos_df['corrected_y'] = worm_head_direction * (linked_mitos_df['y'] - actuator_center_coords[1])\n",
    "    strain_df_this_frame = strain_df.loc[strain_df['frame'] == frame_num].copy()\n",
    "    \n",
    "    sampled_strain_df = pd.DataFrame(columns=['y_coord', strain_calc_opt, 'experiment_id'])\n",
    "    sampled_strain_df['y_coord'] = y_coords\n",
    "    sampled_strain_df['experiment_id'] = experiment_id\n",
    "\n",
    "    for pair in strain_df_this_frame['pair_id']:\n",
    "        # get particles in this pair\n",
    "        particle1 = strain_df_this_frame.loc[strain_df_this_frame['pair_id'] == pair]['particle_1'].values[0]\n",
    "        particle2 = strain_df_this_frame.loc[strain_df_this_frame['pair_id'] == pair]['particle_2'].values[0]\n",
    "        \n",
    "        # get y values of these particles in this frame\n",
    "        y_part1 = linked_mitos_df.loc[(linked_mitos_df['frame'] == frame_num) &\n",
    "                                      (linked_mitos_df['particle'] == particle1)]['corrected_y'].values[0]\n",
    "        y_part2 = linked_mitos_df.loc[(linked_mitos_df['frame'] == frame_num) &\n",
    "                                      (linked_mitos_df['particle'] == particle2)]['corrected_y'].values[0]\n",
    "        bigger_y = max(y_part1, y_part2)\n",
    "        smaller_y = min(y_part1, y_part2)\n",
    "        # get strain between these two particles in this frame\n",
    "        strain_this_pair = strain_df_this_frame.loc[\n",
    "                strain_df_this_frame['pair_id'] == pair][strain_calc_opt].values[0]\n",
    "        \n",
    "        # save this strain for all y_coords on this interval\n",
    "        sampled_strain_df.loc[\n",
    "            (sampled_strain_df['y_coord'] > smaller_y) & \n",
    "            (sampled_strain_df['y_coord'] < bigger_y), strain_calc_opt] = strain_this_pair\n",
    "\n",
    "#     sampled_strain = sampled_strain_df[strain_calc_opt]\n",
    "    sampled_strain_df = sampled_strain_df.astype({'y_coord': float, strain_calc_opt: float})\n",
    "\n",
    "    return sampled_strain_df\n",
    "\n",
    "sampled_strain_df= sample_strain(linked_mitos_df, metadata, np.arange(-1000,1000,1), 1, 'before_after_strain')"
   ]
  },
  {
   "cell_type": "code",
   "execution_count": null,
   "metadata": {},
   "outputs": [],
   "source": [
    "# make strain plots for previously selected trials\n",
    "y_coords_to_sampled = np.arange(-1000,1000,1)\n",
    "sampled_strain_df = pd.DataFrame()#columns=['y_coord', 'before_after_strain'])#index=y_coords_to_sampled)\n",
    "# sampled_strain_by_exp = pd.DataFrame(columns=['y_coord', 'before_after_strain'])\n",
    "fig, ax = plt.subplots()\n",
    "fig2, ax2 = plt.subplots()\n",
    "for index, row in trials_with_strain_and_actuator.iterrows():\n",
    "    experiment_id = row['Experiment_id']\n",
    "    print('Working on', experiment_id)\n",
    "    metadata = trials_with_strain_and_actuator.loc[all_metadata['Experiment_id'] == experiment_id]\n",
    "\n",
    "    strain_file = analyzed_data_dir + experiment_id + '/strain.yaml'\n",
    "    with open(strain_file, 'r') as yamlfile: \n",
    "        strain_df = yaml.safe_load(yamlfile)\n",
    "    strain_df = pd.DataFrame(strain_df)\n",
    "\n",
    "    linked_mitos_file = analyzed_data_dir + experiment_id + '/mito_locations.yaml'\n",
    "    with open(linked_mitos_file, 'r') as yamlfile:\n",
    "        linked_mitos_df = yaml.safe_load(yamlfile)\n",
    "    linked_mitos_df = pd.DataFrame.from_dict(linked_mitos_df)\n",
    "    \n",
    "    plot_strain_centered_on_actuator(strain_df, linked_mitos_df, metadata, 'before_after_strain', ax)\n",
    "    plot_strain_centered_on_actuator(strain_df, linked_mitos_df, metadata, 'before_strain', ax2)\n",
    "    \n",
    "#     (df_for_seaborn, series_for_mpl) = sample_strain(linked_mitos_df=linked_mitos_df,\n",
    "#                                                 metadata_df=metadata,\n",
    "#                                                 y_coords=y_coords_to_sampled,\n",
    "#                                                 frame_num=1,\n",
    "#                                                 strain_calc_opt='before_after_strain')\n",
    "    sampled_strain_df = pd.concat([sampled_strain_df, sample_strain(linked_mitos_df=linked_mitos_df,\n",
    "                                                metadata_df=metadata,\n",
    "                                                y_coords=y_coords_to_sampled,\n",
    "                                                frame_num=1,\n",
    "                                                strain_calc_opt='before_after_strain')],\n",
    "                                  ignore_index=True, sort=False)\n",
    "#     sampled_strain_by_exp[experiment_id] =series_for_mpl# sample_strain(linked_mitos_df=linked_mitos_df,\n",
    "#                                                      metadata_df=metadata,\n",
    "#                                                      y_coords=y_coords_to_sampled,\n",
    "#                                                      frame_num=1,\n",
    "#                                                      strain_calc_opt='before_after_strain')\n",
    "sns.set_style('white')\n",
    "fig3, ax3 = plt.subplots()\n",
    "sns.lineplot(x='y_coord', y='before_after_strain', data=sampled_strain_df)\n",
    "sns.despine(offset=10)"
   ]
  },
  {
   "cell_type": "code",
   "execution_count": 26,
   "metadata": {},
   "outputs": [
    {
     "data": {
      "image/png": "[encoded data removed]",
      "text/plain": [
       "<Figure size 432x288 with 1 Axes>"
      ]
     },
     "metadata": {},
     "output_type": "display_data"
    }
   ],
   "source": []
  },
  {
   "cell_type": "markdown",
   "metadata": {},
   "source": [
    "## Contour Length of TRN\n",
    "When the actuator is active, the overall length of the neuron increases while stretching. Krieg et al. (2017) used this measurement to explore the effect of TRN position on mechanical strain due to normal locomotion of a worm."
   ]
  },
  {
   "cell_type": "code",
   "execution_count": 15,
   "metadata": {},
   "outputs": [
    {
     "data": {
      "image/png": "[encoded data removed]",
      "text/plain": [
       "<Figure size 432x288 with 1 Axes>"
      ]
     },
     "metadata": {},
     "output_type": "display_data"
    }
   ],
   "source": [
    "def plot_total_neuron_length(metadata_df: pd.DataFrame,\n",
    "                            ax: mpl.axes.Axes=None):\n",
    "    mean_length_no_pressure = []\n",
    "    mean_length_300kPa = []\n",
    "    for index, row in metadata_df.iterrows():\n",
    "        experiment_id = row['Experiment_id']\n",
    "        metadata = trials_with_strain_and_actuator.loc[metadata_df['Experiment_id'] == experiment_id]\n",
    "\n",
    "        strain_file = pathlib.Path(analyzed_data_dir, experiment_id, 'strain.yaml')\n",
    "        with open(strain_file, 'r') as yamlfile:\n",
    "            strain_df = yaml.safe_load(yamlfile)\n",
    "        strain_df = pd.DataFrame(strain_df)\n",
    "        \n",
    "        total_dist = strain_df.groupby(['frame'])['total_dist'].sum()\n",
    "        pressure = strain_df.groupby(['frame'])['pressure'].max()\n",
    "        avg_dist_by_pressure = strain_df.groupby(['pressure']).mean()\n",
    "        TRN_length_and_pressure = pd.DataFrame([total_dist, pressure]).transpose()\n",
    "#         print(avg_dist_by_pressure)\n",
    "#         print(total_dist)\n",
    "        mean_length_no_pressure.append(\n",
    "            TRN_length_and_pressure.loc[TRN_length_and_pressure[\n",
    "                'pressure'] == 0]['total_dist'].mean())\n",
    "        mean_length_300kPa.append(\n",
    "            TRN_length_and_pressure.loc[TRN_length_and_pressure[\n",
    "                'pressure'] == 300]['total_dist'].mean())\n",
    "        \n",
    "#         if ax is None:\n",
    "#             fig, ax = plt.subplots()\n",
    "#             plot_title = metadata.loc[:,'Experiment_id'].values[0]\n",
    "#         else:\n",
    "#             plot_title = None\n",
    "\n",
    "        \n",
    "#         TRN_length_and_pressure.boxplot(column=['total_dist'], by='pressure', ax=ax)\n",
    "#         display(TRN_length_and_pressure)\n",
    "        \n",
    "        \n",
    "#         TRN_length_and_pressure.loc[TRN_length_and_pressure['pressure'] == 300].boxplot(column=['total_dist'])\n",
    "#         linked_mitos_df.loc[linked_mitos_df['pressure'] == 0].groupby(['frame']).plot(\n",
    "#                 x='corrected_y', y=plot_axes,\n",
    "#                 color='red', kind='scatter', ax=ax)\n",
    "#         linked_mitos_df.loc[linked_mitos_df['pressure'] == 300].groupby(['frame']).plot(\n",
    "#                     x='corrected_y', y=plot_axes, title=plot_title,\n",
    "#                     color='green', kind='scatter', ax=ax)\n",
    "    mean_length_no_pressure = np.array(mean_length_no_pressure)\n",
    "    mean_length_300kPa = np.array(mean_length_300kPa)\n",
    "    fig, ax = plt.subplots()\n",
    "    ax.boxplot([mean_length_300kPa, mean_length_no_pressure], labels=['300 kPa', '0 kPa'])\n",
    "    ax.set_ylabel('Measured TRN length in pixels')\n",
    "\n",
    "plot_total_neuron_length(trials_with_strain_and_actuator)\n"
   ]
  },
  {
   "cell_type": "markdown",
   "metadata": {},
   "source": [
    "## Displacement profile fitting\n",
    "Most mechanical models use continuous, differentiable functions, but the empirical data we have is discontinuous. One way to solve this problem is to fit the data with a continuous curve. Our data is also pretty sparse, because there are not many mitochondria in a given TRN. \n",
    "\n",
    "To get around this problem, I am first fitting different types of curves to the pooled, normalized displacement measurements, and choosing the best function to fit based on statistical goodness of fit tests. Next, I use the function that provides the best fit to fit individual trials and get a continuous, differentiable representation of the displacement of mitochondria in the trial.\n",
    "\n",
    "Open questions: \n",
    "- What is the best way to normalize? Should I use the largest measured value, even though it might not be the largest displacement of the neuron if the mitochondrion was not in the center of the actuator? Should I instead fit the individual trials and use the max value of the fit?"
   ]
  },
  {
   "cell_type": "code",
   "execution_count": 16,
   "metadata": {},
   "outputs": [
    {
     "ename": "SyntaxError",
     "evalue": "unexpected EOF while parsing (<ipython-input-16-ec068c115afe>, line 13)",
     "output_type": "error",
     "traceback": [
      "\u001b[0;36m  File \u001b[0;32m\"<ipython-input-16-ec068c115afe>\"\u001b[0;36m, line \u001b[0;32m13\u001b[0m\n\u001b[0;31m    # return name of function that fits best\u001b[0m\n\u001b[0m                                            ^\u001b[0m\n\u001b[0;31mSyntaxError\u001b[0m\u001b[0;31m:\u001b[0m unexpected EOF while parsing\n"
     ]
    }
   ],
   "source": [
    "def fit_pooled_displacements(metadata_df: pd.DataFrame):\n",
    "    # for each trial\n",
    "        # load linked_mitos\n",
    "        # subtract off rest position for all three dimensions\n",
    "        # normalize to largest displacement\n",
    "        # add to pooled data\n",
    "    \n",
    "    # for each function to fit\n",
    "        # calculate least squares fit\n",
    "        # calculate goodness of fit\n",
    "        # plot fit with pooled data\n",
    "        \n",
    "    # return name of function that fits best"
   ]
  },
  {
   "cell_type": "markdown",
   "metadata": {},
   "source": [
    "## Testing functions to make sure analysis works properly"
   ]
  },
  {
   "cell_type": "code",
   "execution_count": null,
   "metadata": {},
   "outputs": [],
   "source": [
    "# import unittest\n",
    "\n",
    "# class TestDataframeBuilders(unittest.TestCase):\n",
    "        \n",
    "#     def setUp(self):\n",
    "#         self.analyzed_data_dir = '/Users/adam/Documents/SenseOfTouchResearch/SSN_ImageAnalysis/AnalyzedData/'\n",
    "#         self.all_metadata = get_experiment_df(self.analyzed_data_dir)\n",
    "#         self.test_cases = 'SSN_120_001'\n",
    "\n",
    "#     def test_make_trial_df(self):\n",
    "#         for exp_id in self.test_cases:\n",
    "#             this_trial_mitos = make_trial_df(exp_id, self.all_metadata)\n",
    "            \n",
    "\n",
    "\n",
    "\n",
    "\n",
    "# unittest.main(argv=[''], verbosity=2, exit=False)"
   ]
  },
  {
   "cell_type": "code",
   "execution_count": null,
   "metadata": {},
   "outputs": [],
   "source": []
  }
 ],
 "metadata": {
  "kernelspec": {
   "display_name": "Python [conda env:spinningDiskAnalysis]",
   "language": "python",
   "name": "conda-env-spinningDiskAnalysis-py"
  },
  "language_info": {
   "codemirror_mode": {
    "name": "ipython",
    "version": 3
   },
   "file_extension": ".py",
   "mimetype": "text/x-python",
   "name": "python",
   "nbconvert_exporter": "python",
   "pygments_lexer": "ipython3",
   "version": "3.6.7"
  }
 },
 "nbformat": 4,
 "nbformat_minor": 2
}
