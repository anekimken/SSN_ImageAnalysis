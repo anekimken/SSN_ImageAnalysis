{
 "cells": [
  {
   "cell_type": "markdown",
   "metadata": {},
   "source": [
    "# Mitochondria Displacement Plots\n",
    "Script that goes through analyzed data and makes plots of mitochondria displacements\n",
    "### File location parameters"
   ]
  },
  {
   "cell_type": "code",
   "execution_count": 1,
   "metadata": {},
   "outputs": [],
   "source": [
    "analyzed_data_dir = '/Users/adam/Documents/SenseOfTouchResearch/SSN_ImageAnalysis/AnalyzedData/'"
   ]
  },
  {
   "cell_type": "markdown",
   "metadata": {},
   "source": [
    "### Import packages"
   ]
  },
  {
   "cell_type": "code",
   "execution_count": 2,
   "metadata": {},
   "outputs": [],
   "source": [
    "import yaml\n",
    "import pandas as pd\n",
    "import matplotlib as mpl\n",
    "import matplotlib.pyplot as plt\n",
    "from scipy.spatial import distance\n",
    "from scipy import stats\n",
    "import warnings\n",
    "import glob\n",
    "import numpy as np\n",
    "import typing\n",
    "import pathlib"
   ]
  },
  {
   "cell_type": "markdown",
   "metadata": {},
   "source": [
    "### Functions for creating dataframes"
   ]
  },
  {
   "cell_type": "code",
   "execution_count": 3,
   "metadata": {},
   "outputs": [],
   "source": [
    "def get_experiment_df(analyzed_data_dir):\n",
    "    analyzed_trials = glob.iglob(analyzed_data_dir + '*')\n",
    "    all_metadata = []\n",
    "    for trial in analyzed_trials:\n",
    "        try:\n",
    "            with open(trial + '/metadata.yaml') as metadata_file:\n",
    "                all_metadata.append(yaml.safe_load(metadata_file))\n",
    "        except FileNotFoundError:\n",
    "            pass\n",
    "        except NotADirectoryError:\n",
    "            pass\n",
    "\n",
    "    metadata_df = pd.DataFrame(all_metadata)\n",
    "    \n",
    "    return metadata_df\n"
   ]
  },
  {
   "cell_type": "markdown",
   "metadata": {},
   "source": [
    "### Functions for manipulating dataframes"
   ]
  },
  {
   "cell_type": "code",
   "execution_count": 4,
   "metadata": {},
   "outputs": [],
   "source": [
    "def calc_x_distance(row):\n",
    "    return distance.euclidean([row['x']], [row['x_rest']])\n",
    "\n",
    "def calc_xz_distance(row):\n",
    "    return distance.euclidean([row['x'], row['z']], [row['x_rest'], row['z_rest']])\n",
    "\n",
    "def calc_xyz_distance(row):\n",
    "    return distance.euclidean([row['x'], row['y'], row['z']], [row['x_rest'],  row['y_rest'], row['z_rest']])\n",
    "\n",
    "# def calc_x_stretch(row):\n",
    "#     print('calc_x_stretch function not implemented')\n",
    "# #     return distance.euclidean([row['x']], [row['x_rest']])\n",
    "\n",
    "# def calc_xz_stretch(row):\n",
    "#     print('calc_xz_stretch function not implemented')\n",
    "# #     return distance.euclidean([row['x'], row['z']], [row['x_rest'], row['z_rest']])\n",
    "\n",
    "# def calc_xyz_stretch(row):\n",
    "#     print('calc_xyz_stretch function not implemented')\n",
    "# #     return distance.euclidean([row['x'], row['y'], row['z']], [row['x_rest'],  row['y_rest'], row['z_rest']])\n",
    "\n",
    "# def calc_x_strain(row):\n",
    "#     print('calc_x_strain function not implemented')\n",
    "# #     return distance.euclidean([row['x']], [row['x_rest']])\n",
    "\n",
    "# def calc_xz_strain(row):\n",
    "#     print('calc_xz_strain function not implemented')\n",
    "# #     return distance.euclidean([row['x'], row['z']], [row['x_rest'], row['z_rest']])\n",
    "\n",
    "# def calc_xyz_strain(row):\n",
    "#     print('calc_xyz_strain function not implemented')\n",
    "# #     return distance.euclidean([row['x'], row['y'], row['z']], [row['x_rest'],  row['y_rest'], row['z_rest']])"
   ]
  },
  {
   "cell_type": "markdown",
   "metadata": {},
   "source": [
    "### Function for plotting"
   ]
  },
  {
   "cell_type": "code",
   "execution_count": 5,
   "metadata": {},
   "outputs": [],
   "source": [
    "def plot_disp_centered_on_actuator(linked_mitos_df: pd.DataFrame,\n",
    "                                   metadata_df: pd.DataFrame,\n",
    "                                   disp_component: str,\n",
    "                                   ax: mpl.axes.Axes=None,\n",
    "                                   normalization: bool=False):\n",
    "    actuator_center_coords = metadata_df['actuator_center'].apply(pd.Series).stack()\n",
    "    if metadata_df['head_orientation'].str.contains('Headfirst').all():\n",
    "        worm_head_direction = -1\n",
    "    elif metadata_df['head_orientation'].str.contains('Tailfirst').all():\n",
    "        worm_head_direction = 1\n",
    "    else:\n",
    "        raise ValueError\n",
    "    linked_mitos_df['corrected_y'] = worm_head_direction * (linked_mitos_df['y'] - actuator_center_coords[1])\n",
    "    linked_mitos_df['x_disp'] = linked_mitos_df.apply(calc_x_distance, axis=1)\n",
    "    linked_mitos_df['xz_disp'] = linked_mitos_df.apply(calc_xz_distance, axis=1)\n",
    "    linked_mitos_df['xyz_disp'] = linked_mitos_df.apply(calc_xyz_distance, axis=1)\n",
    "    \n",
    "    plot_axes = disp_component + '_disp'\n",
    "    \n",
    "    if normalization is True:\n",
    "        linked_mitos_df[plot_axes + '_normalized']=(linked_mitos_df[plot_axes]/linked_mitos_df[plot_axes].max())\n",
    "        plot_axes += '_normalized'\n",
    "    \n",
    "    if ax is None:\n",
    "        fig, ax = plt.subplots()\n",
    "        plot_title = metadata_df.loc[:,'Experiment_id'].values[0]\n",
    "    else:\n",
    "        plot_title = None\n",
    "\n",
    "    linked_mitos_df.loc[linked_mitos_df['pressure'] == 0].groupby(['frame']).plot(\n",
    "            x='corrected_y', y=plot_axes,\n",
    "            color='red', kind='scatter', ax=ax)\n",
    "    linked_mitos_df.loc[linked_mitos_df['pressure'] == 300].groupby(['frame']).plot(\n",
    "                x='corrected_y', y=plot_axes, title=plot_title,\n",
    "                color='green', kind='scatter', ax=ax)\n"
   ]
  },
  {
   "cell_type": "code",
   "execution_count": 6,
   "metadata": {},
   "outputs": [
    {
     "data": {
      "image/png": "[encoded data removed]",
      "text/plain": [
       "<Figure size 432x288 with 1 Axes>"
      ]
     },
     "metadata": {
      "needs_background": "light"
     },
     "output_type": "display_data"
    },
    {
     "data": {
      "image/png": "[encoded data removed]",
      "text/plain": [
       "<Figure size 432x288 with 1 Axes>"
      ]
     },
     "metadata": {
      "needs_background": "light"
     },
     "output_type": "display_data"
    }
   ],
   "source": [
    "# get all the metadata\n",
    "all_metadata = get_experiment_df(analyzed_data_dir)\n",
    "# select only the trials we want\n",
    "trials_with_strain_and_actuator = all_metadata.loc[(all_metadata['analysis_status'] == 'Strain calculated') &\n",
    "                                                   (all_metadata['actuator_center'].notnull()) &\n",
    "                                                   (all_metadata['worm_strain'] == 'NM3573') &\n",
    "                                                   (all_metadata['neuron'] == 'ALM')]\n",
    "# make plots for those trials\n",
    "fig, ax = plt.subplots()\n",
    "fig2, ax2 = plt.subplots()\n",
    "for index, row in trials_with_strain_and_actuator.iterrows():\n",
    "    experiment_id = row['Experiment_id']\n",
    "    metadata = trials_with_strain_and_actuator.loc[all_metadata['Experiment_id'] == experiment_id]\n",
    "\n",
    "    strain_file = analyzed_data_dir + experiment_id + '/strain.yaml'\n",
    "    with open(strain_file, 'r') as yamlfile:\n",
    "        strain_df = yaml.safe_load(yamlfile)\n",
    "    strain_df = pd.DataFrame(strain_df)\n",
    "\n",
    "    linked_mitos_file = analyzed_data_dir + experiment_id + '/mito_locations.yaml'\n",
    "    with open(linked_mitos_file, 'r') as yamlfile:\n",
    "        linked_mitos_df = yaml.safe_load(yamlfile)\n",
    "    linked_mitos_df = pd.DataFrame.from_dict(linked_mitos_df)\n",
    "    \n",
    "    plot_disp_centered_on_actuator(linked_mitos_df, metadata, 'x', ax)\n",
    "    plot_disp_centered_on_actuator(linked_mitos_df, metadata, 'x', ax2, True)\n",
    "#     plot_disp_centered_on_actuator(linked_mitos_df, metadata, 'x')\n",
    "#     plot_disp_centered_on_actuator(linked_mitos_df, metadata, 'xz', ax)\n",
    "#     plot_disp_centered_on_actuator(linked_mitos_df, metadata, 'xyz')\n",
    "\n",
    "# fig.savefig(analyzed_data_dir + 'aggregatedDataFig.png')\n"
   ]
  },
  {
   "cell_type": "markdown",
   "metadata": {},
   "source": [
    "## Strain plots\n",
    "Strain is really what we'd like to know, since it quantifies the deformation of the neuron. It can be calculated according to: \n",
    "\n",
    "$\\epsilon = \\frac{L - L_0}{L_0}$\n",
    "\n",
    "Where $L$ is the current length of the object and $L_0$ is the undeformed length. A strain measurement is thus particularly sensitive to the choice of an undeformed configuration. For the sparse, noisy data we have, a few choices are:\n",
    "\n",
    "1. Use the average of all lengths between the same pair of mitochondria in the condition where pressure=0\n",
    "2. Use the length between the same pair of mitochondria in the stack immediately preceding the actuation\n",
    "3. Use the averate lengths between the same pair of mitochondria in the stack immediately before and after the actuation\n",
    "\n",
    "### Strain calcs with different reference distances"
   ]
  },
  {
   "cell_type": "code",
   "execution_count": 25,
   "metadata": {},
   "outputs": [],
   "source": [
    "'''Option 1 above already in the strain_df since I do it that way in spyder'''\n",
    "\n",
    "def calc_strain_rest_before(row):\n",
    "    '''Option 2 above'''\n",
    "    if row['pressure'] != 0:\n",
    "        before_rest = strain_df.loc[\n",
    "            (strain_df['frame'] == row['frame'] - 1) &\n",
    "            (strain_df['pair_id'] == row['pair_id'])]['total_dist'].values\n",
    "        before_strain = (row['total_dist'] - before_rest) / before_rest\n",
    "    else:\n",
    "        before_strain = 0\n",
    "    return float(before_strain)\n",
    "\n",
    "def calc_strain_rest_before_after(row):\n",
    "    '''Option 3 above'''\n",
    "    if row['frame'] < strain_df['frame'].max():\n",
    "        if row['pressure'] != 0:\n",
    "            before_rest = strain_df.loc[\n",
    "                (strain_df['frame'] == row['frame'] - 1) &\n",
    "                (strain_df['pair_id'] == row['pair_id'])]['total_dist']\n",
    "            after_rest = strain_df.loc[\n",
    "                (strain_df['frame'] == row['frame'] + 1) &\n",
    "                (strain_df['pair_id'] == row['pair_id'])]['total_dist']\n",
    "            rest = np.mean([before_rest.values, after_rest.values])\n",
    "            before_after_strain = (row['total_dist'] - rest) / rest\n",
    "        else:\n",
    "            before_after_strain = 0\n",
    "    else:\n",
    "        before_after_strain = None\n",
    "        \n",
    "#     print(type(before_after_strain), before_after_strain)\n",
    "    return before_after_strain\n",
    "\n",
    "# strain_df['before_strain'] = strain_df.apply(calc_strain_rest_before, axis=1)\n",
    "# strain_df['before_after_strain'] = strain_df.apply(calc_strain_rest_before_after, axis=1)\n",
    "# strain_df=strain_df.astype(float)\n",
    "# strain_df.loc[strain_df['pressure'] != 0].plot(x='pair_id', y='before_after_strain', drawstyle=\"steps\")"
   ]
  },
  {
   "cell_type": "markdown",
   "metadata": {},
   "source": [
    "### Functions for plotting strain"
   ]
  },
  {
   "cell_type": "code",
   "execution_count": 33,
   "metadata": {},
   "outputs": [],
   "source": [
    "def plot_strain_centered_on_actuator(strain_df: pd.DataFrame,\n",
    "                                     linked_mitos_df: pd.DataFrame,\n",
    "                                     metadata_df: pd.DataFrame,\n",
    "                                     strain_calc_opt: str,\n",
    "                                     ax: mpl.axes.Axes=None):\n",
    "    actuator_center_coords = metadata_df['actuator_center'].apply(pd.Series).stack()\n",
    "    if metadata['head_orientation'].str.contains('Headfirst').all():\n",
    "        worm_head_direction = -1\n",
    "    elif metadata['head_orientation'].str.contains('Tailfirst').all():\n",
    "        worm_head_direction = 1\n",
    "    else:\n",
    "        raise ValueError\n",
    "        \n",
    "    strain_df['before_strain'] = strain_df.apply(calc_strain_rest_before, axis=1)\n",
    "    strain_df['before_after_strain'] = strain_df.apply(calc_strain_rest_before_after, axis=1) \n",
    "    linked_mitos_df['corrected_y'] = worm_head_direction * (linked_mitos_df['y'] - actuator_center_coords[1])\n",
    "    corrected_y_vals = []\n",
    "    for index, row in strain_df.iterrows():\n",
    "        corrected_y_vals.append(linked_mitos_df.loc[\n",
    "                (linked_mitos_df['frame'] == row['frame']) &\n",
    "                (linked_mitos_df['particle'] == row['particle_1'])]['corrected_y'].values[0])\n",
    "    strain_df['corrected_y'] = corrected_y_vals\n",
    "#     display(strain_df.tail())\n",
    "    \n",
    "    plot_axes = strain_calc_opt\n",
    "    \n",
    "    if ax is None:\n",
    "        fig, ax = plt.subplots()\n",
    "        plot_title = metadata_df.loc[:,'Experiment_id'].values[0]\n",
    "    else:\n",
    "        plot_title = 'All selected trials'\n",
    "        \n",
    "    plot_spec = {'x': 'corrected_y', 'y': strain_calc_opt, 'ax': ax, 'drawstyle': 'steps', 'title': plot_title}\n",
    "    strain_df.loc[strain_df['pressure'] == 0].groupby(['frame']).plot(\n",
    "            **plot_spec, color='red')\n",
    "    strain_df.loc[strain_df['pressure'] == 300].groupby(['frame']).plot(\n",
    "            **plot_spec, color='green')\n",
    "    ax.get_legend().remove()\n",
    "    ax.set_ylabel(strain_calc_opt)\n",
    "    \n",
    "def plot_sampled_strain(linked_mitos_df: pd.DataFrame,\n",
    "                        metadata_df: pd.DataFrame,\n",
    "                        disp_component: str,\n",
    "                        ax: mpl.axes.Axes=None):\n",
    "    actuator_center_coords = metadata_df['actuator_center'].apply(pd.Series).stack()\n",
    "    if metadata['head_orientation'].str.contains('Headfirst').all():\n",
    "        worm_head_direction = -1\n",
    "    elif metadata['head_orientation'].str.contains('Tailfirst').all():\n",
    "        worm_head_direction = 1\n",
    "    else:\n",
    "        raise ValueError\n",
    "        \n",
    "    linked_mitos_df['corrected_y'] = worm_head_direction * (linked_mitos_df['y'] - actuator_center_coords[1])"
   ]
  },
  {
   "cell_type": "code",
   "execution_count": 34,
   "metadata": {},
   "outputs": [
    {
     "data": {
      "image/png": "[encoded data removed]",
      "text/plain": [
       "<Figure size 720x216 with 1 Axes>"
      ]
     },
     "metadata": {
      "needs_background": "light"
     },
     "output_type": "display_data"
    },
    {
     "data": {
      "image/png": "[encoded data removed]",
      "text/plain": [
       "<Figure size 720x216 with 1 Axes>"
      ]
     },
     "metadata": {
      "needs_background": "light"
     },
     "output_type": "display_data"
    }
   ],
   "source": [
    "# make plots for selected trials\n",
    "fig, ax = plt.subplots()\n",
    "fig.set_size_inches(10, 3)\n",
    "fig2, ax2 = plt.subplots()\n",
    "fig2.set_size_inches(10, 3)\n",
    "for index, row in trials_with_strain_and_actuator.iterrows():\n",
    "    experiment_id = row['Experiment_id']\n",
    "    metadata = trials_with_strain_and_actuator.loc[all_metadata['Experiment_id'] == experiment_id]\n",
    "\n",
    "    strain_file = analyzed_data_dir + experiment_id + '/strain.yaml'\n",
    "    with open(strain_file, 'r') as yamlfile:\n",
    "        strain_df = yaml.safe_load(yamlfile)\n",
    "    strain_df = pd.DataFrame(strain_df)\n",
    "\n",
    "    linked_mitos_file = analyzed_data_dir + experiment_id + '/mito_locations.yaml'\n",
    "    with open(linked_mitos_file, 'r') as yamlfile:\n",
    "        linked_mitos_df = yaml.safe_load(yamlfile)\n",
    "    linked_mitos_df = pd.DataFrame.from_dict(linked_mitos_df)\n",
    "    \n",
    "    plot_strain_centered_on_actuator(strain_df, linked_mitos_df, metadata, 'before_after_strain', ax)\n",
    "    plot_strain_centered_on_actuator(strain_df, linked_mitos_df, metadata, 'before_strain', ax2)\n",
    "\n",
    "\n"
   ]
  },
  {
   "cell_type": "markdown",
   "metadata": {},
   "source": [
    "## Contour Length of TRN\n",
    "When the actuator is active, the overall length of the neuron increases while stretching. Krieg et al. (2017) used this measurement to explore the effect of TRN position on mechanical strain due to normal locomotion of a worm."
   ]
  },
  {
   "cell_type": "code",
   "execution_count": null,
   "metadata": {},
   "outputs": [],
   "source": [
    "def plot_total_neuron_length(metadata_df: pd.DataFrame,\n",
    "                            ax: mpl.axes.Axes=None):\n",
    "    mean_length_no_pressure = []\n",
    "    mean_length_300kPa = []\n",
    "    for index, row in metadata_df.iterrows():\n",
    "        experiment_id = row['Experiment_id']\n",
    "        metadata = trials_with_strain_and_actuator.loc[metadata_df['Experiment_id'] == experiment_id]\n",
    "\n",
    "        strain_file = pathlib.Path(analyzed_data_dir, experiment_id, 'strain.yaml')\n",
    "        with open(strain_file, 'r') as yamlfile:\n",
    "            strain_df = yaml.safe_load(yamlfile)\n",
    "        strain_df = pd.DataFrame(strain_df)\n",
    "        \n",
    "        total_dist = strain_df.groupby(['frame'])['total_dist'].sum()\n",
    "        pressure = strain_df.groupby(['frame'])['pressure'].max()\n",
    "        avg_dist_by_pressure = strain_df.groupby(['pressure']).mean()\n",
    "        TRN_length_and_pressure = pd.DataFrame([total_dist, pressure]).transpose()\n",
    "#         print(avg_dist_by_pressure)\n",
    "#         print(total_dist)\n",
    "        mean_length_no_pressure.append(\n",
    "            TRN_length_and_pressure.loc[TRN_length_and_pressure[\n",
    "                'pressure'] == 0]['total_dist'].mean())\n",
    "        mean_length_300kPa.append(\n",
    "            TRN_length_and_pressure.loc[TRN_length_and_pressure[\n",
    "                'pressure'] == 300]['total_dist'].mean())\n",
    "        \n",
    "#         if ax is None:\n",
    "#             fig, ax = plt.subplots()\n",
    "#             plot_title = metadata.loc[:,'Experiment_id'].values[0]\n",
    "#         else:\n",
    "#             plot_title = None\n",
    "\n",
    "        \n",
    "#         TRN_length_and_pressure.boxplot(column=['total_dist'], by='pressure', ax=ax)\n",
    "#         display(TRN_length_and_pressure)\n",
    "        \n",
    "        \n",
    "#         TRN_length_and_pressure.loc[TRN_length_and_pressure['pressure'] == 300].boxplot(column=['total_dist'])\n",
    "#         linked_mitos_df.loc[linked_mitos_df['pressure'] == 0].groupby(['frame']).plot(\n",
    "#                 x='corrected_y', y=plot_axes,\n",
    "#                 color='red', kind='scatter', ax=ax)\n",
    "#         linked_mitos_df.loc[linked_mitos_df['pressure'] == 300].groupby(['frame']).plot(\n",
    "#                     x='corrected_y', y=plot_axes, title=plot_title,\n",
    "#                     color='green', kind='scatter', ax=ax)\n",
    "    mean_length_no_pressure = np.array(mean_length_no_pressure)\n",
    "    mean_length_300kPa = np.array(mean_length_300kPa)\n",
    "    fig, ax = plt.subplots()\n",
    "    ax.boxplot([mean_length_300kPa, mean_length_no_pressure], labels=['300 kPa', '0 kPa'])\n",
    "    ax.set_ylabel('Measured TRN length in pixels')\n",
    "\n",
    "plot_total_neuron_length(trials_with_strain_and_actuator)\n"
   ]
  },
  {
   "cell_type": "markdown",
   "metadata": {},
   "source": [
    "## Displacement profile fitting\n",
    "Most mechanical models use continuous, differentiable functions, but the empirical data we have is discontinuous. One way to solve this problem is to fit the data with a continuous curve. Our data is also pretty sparse, because there are not many mitochondria in a given TRN. \n",
    "\n",
    "To get around this problem, I am first fitting different types of curves to the pooled, normalized displacement measurements, and choosing the best function to fit based on statistical goodness of fit tests. Next, I use the function that provides the best fit to fit individual trials and get a continuous, differentiable representation of the displacement of mitochondria in the trial.\n",
    "\n",
    "Open questions: \n",
    "- What is the best way to normalize? Should I use the largest measured value, even though it might not be the largest displacement of the neuron if the mitochondrion was not in the center of the actuator? Should I instead fit the individual trials and use the max value of the fit?"
   ]
  },
  {
   "cell_type": "code",
   "execution_count": null,
   "metadata": {},
   "outputs": [],
   "source": [
    "def fit_pooled_displacements(metadata_df: pd.DataFrame):\n",
    "    # for each trial\n",
    "        # load linked_mitos\n",
    "        # subtract off rest position for all three dimensions\n",
    "        # normalize to largest displacement\n",
    "        # add to pooled data\n",
    "    \n",
    "    # for each function to fit\n",
    "        # calculate least squares fit\n",
    "        # calculate goodness of fit\n",
    "        # plot fit with pooled data\n",
    "        \n",
    "    # return name of function that fits best"
   ]
  },
  {
   "cell_type": "markdown",
   "metadata": {},
   "source": [
    "## Testing functions to make sure analysis works properly"
   ]
  },
  {
   "cell_type": "code",
   "execution_count": null,
   "metadata": {},
   "outputs": [],
   "source": [
    "# import unittest\n",
    "\n",
    "# class TestDataframeBuilders(unittest.TestCase):\n",
    "        \n",
    "#     def setUp(self):\n",
    "#         self.analyzed_data_dir = '/Users/adam/Documents/SenseOfTouchResearch/SSN_ImageAnalysis/AnalyzedData/'\n",
    "#         self.all_metadata = get_experiment_df(self.analyzed_data_dir)\n",
    "#         self.test_cases = 'SSN_120_001'\n",
    "\n",
    "#     def test_make_trial_df(self):\n",
    "#         for exp_id in self.test_cases:\n",
    "#             this_trial_mitos = make_trial_df(exp_id, self.all_metadata)\n",
    "            \n",
    "\n",
    "\n",
    "\n",
    "\n",
    "# unittest.main(argv=[''], verbosity=2, exit=False)"
   ]
  }
 ],
 "metadata": {
  "kernelspec": {
   "display_name": "Python [conda env:spinningDiskAnalysis]",
   "language": "python",
   "name": "conda-env-spinningDiskAnalysis-py"
  },
  "language_info": {
   "codemirror_mode": {
    "name": "ipython",
    "version": 3
   },
   "file_extension": ".py",
   "mimetype": "text/x-python",
   "name": "python",
   "nbconvert_exporter": "python",
   "pygments_lexer": "ipython3",
   "version": "3.6.7"
  }
 },
 "nbformat": 4,
 "nbformat_minor": 2
}
