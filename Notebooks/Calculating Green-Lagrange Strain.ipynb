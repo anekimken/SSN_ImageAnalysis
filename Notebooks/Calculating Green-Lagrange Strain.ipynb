{
 "cells": [
  {
   "cell_type": "markdown",
   "metadata": {},
   "source": [
    "# Green-Lagrange strain calculation\n",
    "The model made in the collaboration between the Goodman and Vergassola labs uses a non-linear Green-Lagrange strain formulation due to the relatively large deformations inherent in indenting worms. This notebook calculates the Green-Lagrange strain from the change in position of mitochondria in C. elegans TRNs during mechanical stimulation in a microfluidic chip.\n"
   ]
  },
  {
   "cell_type": "markdown",
   "metadata": {},
   "source": [
    "## Setup\n",
    "### Choose worm strain and neuron"
   ]
  },
  {
   "cell_type": "code",
   "execution_count": 1,
   "metadata": {},
   "outputs": [],
   "source": [
    "worm_strains = ['NM3573', 'GN885', 'GN886', 'GN887', 'GN906']\n",
    "neurons = ['ALM']\n",
    "\n",
    "allele_dict = {'NM3573': 'wild-type',\n",
    "               'GN885': 'him-4(e1267)',\n",
    "               'GN886': 'mec-1(e1066)',\n",
    "               'GN887': 'mec-1(e1738)',\n",
    "               'GN906': 'mec-5(u444)'}"
   ]
  },
  {
   "cell_type": "markdown",
   "metadata": {},
   "source": [
    "### Experimental parameters"
   ]
  },
  {
   "cell_type": "code",
   "execution_count": 2,
   "metadata": {},
   "outputs": [],
   "source": [
    "pixel_to_micron = 0.275\n",
    "analyzed_data_dir = '/Users/adam/Documents/SenseOfTouchResearch/SSN_AnalyzedData/'\n",
    "raw_data_dir = '/Users/adam/Documents/SenseOfTouchResearch/SSN_data/'\n",
    "fig_save_dir = analyzed_data_dir + 'PreliminaryPlots/'"
   ]
  },
  {
   "cell_type": "markdown",
   "metadata": {},
   "source": [
    "### Import packages"
   ]
  },
  {
   "cell_type": "code",
   "execution_count": 3,
   "metadata": {},
   "outputs": [],
   "source": [
    "import yaml\n",
    "import time\n",
    "import pandas as pd\n",
    "import matplotlib as mpl\n",
    "import matplotlib.pyplot as plt\n",
    "from scipy.spatial import distance\n",
    "from scipy import stats\n",
    "from scipy.optimize import curve_fit\n",
    "import pims\n",
    "from nd2reader import ND2Reader \n",
    "import math\n",
    "import warnings\n",
    "import glob\n",
    "import numpy as np\n",
    "import typing\n",
    "import pathlib\n",
    "import seaborn as sns\n",
    "import line_profiler\n",
    "\n",
    "start = time.time()\n",
    "for current_worm_strain in worm_strains:\n",
    "    for current_neuron in neurons:\n",
    "        current_strain_TRN = current_worm_strain + '_' + current_neuron\n",
    "        fig_path = pathlib.Path(fig_save_dir + current_strain_TRN)\n",
    "        if fig_path.exists() is False:\n",
    "            fig_path.mkdir()"
   ]
  },
  {
   "cell_type": "markdown",
   "metadata": {},
   "source": [
    "### Settings for plot aesthetics"
   ]
  },
  {
   "cell_type": "code",
   "execution_count": 4,
   "metadata": {},
   "outputs": [],
   "source": [
    "sns.set(font_scale=1.2)\n",
    "sns.set_style('ticks')\n",
    "sns.set_palette('colorblind')"
   ]
  },
  {
   "cell_type": "markdown",
   "metadata": {},
   "source": [
    "## Load data\n",
    "### Start with metadata"
   ]
  },
  {
   "cell_type": "code",
   "execution_count": 5,
   "metadata": {},
   "outputs": [],
   "source": [
    "analyzed_trials = glob.iglob(analyzed_data_dir + '*')\n",
    "all_metadata = []\n",
    "for trial in analyzed_trials:\n",
    "    try:\n",
    "        with open(trial + '/metadata.yaml') as metadata_file:\n",
    "            all_metadata.append(yaml.safe_load(metadata_file))\n",
    "    except FileNotFoundError:\n",
    "        pass\n",
    "    except NotADirectoryError:\n",
    "        pass\n",
    "\n",
    "metadata_df = pd.DataFrame(all_metadata)"
   ]
  },
  {
   "cell_type": "markdown",
   "metadata": {},
   "source": [
    "#### Select only the trials that have been successfully processed\n",
    "Also get a count of the number of trials for each genotype"
   ]
  },
  {
   "cell_type": "code",
   "execution_count": 6,
   "metadata": {},
   "outputs": [],
   "source": [
    "trials_for_analysis = metadata_df.loc[(metadata_df['analysis_status'] == 'Strain calculated') &\n",
    "                                                   (metadata_df['actuator_center'].notnull()) &\n",
    "                                                   (metadata_df['neuron'].isin(neurons)) &\n",
    "                                                   (metadata_df['worm_strain'].isin(worm_strains))].copy()\n",
    "\n",
    "worm_strain_categories = pd.api.types.CategoricalDtype(categories=worm_strains, ordered=True)\n",
    "trials_for_analysis['worm_strain'] = trials_for_analysis['worm_strain'].astype(worm_strain_categories)\n",
    "trials_for_analysis.sort_values('worm_strain', inplace=True)\n",
    "# display(trials_for_analysis)\n",
    "\n",
    "n_trials_dict = trials_for_analysis['worm_strain'].value_counts().to_dict()"
   ]
  },
  {
   "cell_type": "markdown",
   "metadata": {},
   "source": [
    "### Load mitochondria position data"
   ]
  },
  {
   "cell_type": "code",
   "execution_count": 7,
   "metadata": {},
   "outputs": [],
   "source": [
    "list_of_linked_mito_dfs = []\n",
    "linked_mitos_df = pd.DataFrame()\n",
    "for index, row in trials_for_analysis.iterrows():\n",
    "    experiment_id = row['Experiment_id']\n",
    "    linked_mitos_file = analyzed_data_dir + experiment_id + '/mito_locations.yaml'\n",
    "    with open(linked_mitos_file, 'r') as yamlfile:\n",
    "        linked_mitos_dict = yaml.safe_load(yamlfile)\n",
    "\n",
    "    parsed_dict = {k: linked_mitos_dict[k] for k in (\n",
    "        'frame', 'particle', 'pressure', 'x', 'y', 'z')}\n",
    "    parsed_df = pd.DataFrame(parsed_dict)\n",
    "    parsed_df['Experiment_id'] = experiment_id\n",
    "    parsed_df['worm_strain'] = row['worm_strain']\n",
    "    parsed_df['genotype'] = allele_dict[row['worm_strain']]\n",
    "    list_of_linked_mito_dfs.append(parsed_df)\n",
    "\n",
    "linked_mitos_df = pd.concat(list_of_linked_mito_dfs)\n",
    "linked_mitos_df['worm_strain'] = linked_mitos_df['worm_strain'].astype(worm_strain_categories)"
   ]
  },
  {
   "cell_type": "markdown",
   "metadata": {},
   "source": [
    "## Find origin\n",
    "Lagrangian mechanics requires choosing an origin"
   ]
  },
  {
   "cell_type": "code",
   "execution_count": null,
   "metadata": {},
   "outputs": [],
   "source": []
  }
 ],
 "metadata": {
  "kernelspec": {
   "display_name": "Python [conda env:spinningDiskAnalysis]",
   "language": "python",
   "name": "conda-env-spinningDiskAnalysis-py"
  },
  "language_info": {
   "codemirror_mode": {
    "name": "ipython",
    "version": 3
   },
   "file_extension": ".py",
   "mimetype": "text/x-python",
   "name": "python",
   "nbconvert_exporter": "python",
   "pygments_lexer": "ipython3",
   "version": "3.6.7"
  }
 },
 "nbformat": 4,
 "nbformat_minor": 2
}
