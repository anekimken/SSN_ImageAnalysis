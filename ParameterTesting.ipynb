{
 "cells": [
  {
   "cell_type": "markdown",
   "metadata": {},
   "source": [
    "# Goals\n",
    "The goal of this notebook is to get an idea of the range of parameters that result in acceptable image analysis. Ideally, the result will be a set of parameters that work for all the test images. More realistically, the result will be a range of parameters that work for the test images and some sort of criteria to distinguish which parameters work for which images."
   ]
  },
  {
   "cell_type": "markdown",
   "metadata": {},
   "source": [
    "# Approach\n",
    "1. Gather statistics on quality of existing images\n",
    "     - Use histograms to look at pixel values\n",
    "     - Build dataframe with these descriptive statistics along with metadata\n",
    "2. Choose 5 datasets that \"look good\" in term of descriptive statistics, eye test, and notes in metadata\n",
    "3. Manually tune analysis for these datasets\n",
    "4. Compare tuned values and look for correlation with descriptive statistics"
   ]
  },
  {
   "cell_type": "markdown",
   "metadata": {},
   "source": [
    "### Import packagaes"
   ]
  },
  {
   "cell_type": "code",
   "execution_count": 9,
   "metadata": {},
   "outputs": [],
   "source": [
    "import sys\n",
    "import os\n",
    "import glob\n",
    "\n",
    "import gspread\n",
    "from oauth2client.service_account import ServiceAccountCredentials\n",
    "\n",
    "import numpy as np\n",
    "import pandas as pd\n",
    "from nd2reader import ND2Reader \n",
    "from scipy import ndimage as ndi\n",
    "import pims\n",
    "from PIL import Image\n",
    "\n",
    "%matplotlib inline\n",
    "import matplotlib as mpl\n",
    "import matplotlib.pyplot as plt\n",
    "from matplotlib.widgets import Slider\n",
    "import warnings\n",
    "warnings.filterwarnings(\"ignore\", module=\"matplotlib\")\n",
    "\n",
    "from ipywidgets import interact\n",
    "import ipywidgets as ipw\n",
    "# mpl.rcParams['figure.figsize'] = [15.0, 10.0]"
   ]
  },
  {
   "cell_type": "markdown",
   "metadata": {},
   "source": [
    "### Functions for importing images and metadata"
   ]
  },
  {
   "cell_type": "code",
   "execution_count": 2,
   "metadata": {},
   "outputs": [],
   "source": [
    "def loadImages(imageDir,expID):\n",
    "    images = pims.open(imageDir+expID+'.nd2')\n",
    "    images.bundle_axes = ['z', 'y', 'x']\n",
    "#     meta = images.metadata\n",
    "#     print(meta)\n",
    "#     numSlices = meta['total_images_per_channel']\n",
    "    \n",
    "    imageArray = np.asarray(images)\n",
    "    imageArray = imageArray.squeeze()\n",
    "    # print(imageArray.shape)\n",
    "    return imageArray\n",
    "\n",
    "def getMetadata(imageDir,experimentID):\n",
    "    ## need to think about if I want to just return all the metadata in a dataframe for later slicing and dicing\n",
    "    \n",
    "    \n",
    "    # Access google drive spreadsheet\n",
    "    scope = ['https://spreadsheets.google.com/feeds',\n",
    "         'https://www.googleapis.com/auth/drive']\n",
    "    credentials = ServiceAccountCredentials.from_json_keyfile_name('SenseOfTouchResearch-e5927f56c4d0.json', scope)\n",
    "    c = gspread.authorize(credentials)\n",
    "    metadataSpread = c.open_by_key('1LsTdPBOW79XSkk5DJv2ckiVTvpofAOOd_dJL4cgtxBQ')\n",
    "    metadataFrame = pd.DataFrame(metadataSpread.sheet1.get_all_records())\n",
    "    gdriveMetadata = metadataFrame.loc[metadataFrame['Experiment ID'] == 'SSN_089_001']\n",
    "    \n",
    "    # Access the metadata embedded in the file from the microscope\n",
    "    images = pims.open(imageDir+expID+'.nd2')\n",
    "    meta = images.metadata\n",
    "    keysToKeep = ['height','width','date','total_images_per_channel','channels','pixel_microns']\n",
    "    metadataFromScope = { keyToKeep: meta[keyToKeep] for keyToKeep in keysToKeep }\n",
    "    metadataFromScope = pd.DataFrame(metadataFromScope)\n",
    "    \n",
    "    gdriveMetadata=gdriveMetadata.reset_index(drop=True)\n",
    "    metadataFromScope=metadataFromScope.reset_index(drop=True)\n",
    "    currentMetadata = metadataFromScope.join(gdriveMetadata)\n",
    "\n",
    "    return currentMetadata"
   ]
  },
  {
   "cell_type": "markdown",
   "metadata": {},
   "source": [
    "### Functions for displaying images and data"
   ]
  },
  {
   "cell_type": "code",
   "execution_count": 3,
   "metadata": {},
   "outputs": [],
   "source": [
    "def dispMaxProjection(images):\n",
    "    # convert data to numpy array\n",
    "    maxProjection = np.amax(images,0) # collapse z axis\n",
    "    maxProjection = maxProjection.squeeze()\n",
    "    maxProjection = np.asarray(maxProjection)\n",
    "    \n",
    "    # print a bit of info for the user\n",
    "    vulvaSide = thisMetadata.loc[0,'Worm vulva orientation']\n",
    "    print('Worm vulva is on the '+vulvaSide+ ' side.')\n",
    "    \n",
    "    # figure axis setup  with increased figure size\n",
    "    maxProjFig = plt.figure(figsize = (8,8)) \n",
    "    ax = maxProjFig.add_subplot(111)\n",
    "\n",
    "    # display  image \n",
    "    ax.imshow(maxProjection, interpolation='none')\n",
    "    ax.set_title('Max projection along z')\n",
    "#     plt.show()\n",
    "    return maxProjFig\n",
    "\n",
    "\n",
    "def plotCurrentSlice(currentSlice,stack):\n",
    "    # figure axis setup  with increased figure size\n",
    "    imFig, ax = plt.subplots(figsize=(8,8))\n",
    "\n",
    "    # display initial image \n",
    "    thisIm = ax.imshow(stack[currentSlice], interpolation='none')    \n",
    "    return \n",
    "\n",
    "\n",
    "def scrollingFig(currentStack):\n",
    "    interact(plotCurrentSlice,currentSlice = ipw.IntSlider(min=0,max=currentStack.shape[0]-1,step=1,value=0),stack = ipw.fixed(currentStack))"
   ]
  },
  {
   "cell_type": "markdown",
   "metadata": {},
   "source": [
    "## 1) Get statistics on image quality"
   ]
  },
  {
   "cell_type": "markdown",
   "metadata": {},
   "source": [
    "### Get list of files to analyze\n",
    "The main idea here is to start building a dataframe with a bunch of info for each of the files, starting with the metadata. We start by specifying all the filenames, and then go through each file one at a time to add some new information like pixel histogram parameters and brightness levels. This section should mostly rely on the functions above to keep things clean. It could in principle be done in a big loop, but I want to actually look at the individual results to see if I can find any patterns."
   ]
  },
  {
   "cell_type": "code",
   "execution_count": 15,
   "metadata": {},
   "outputs": [
    {
     "name": "stdout",
     "output_type": "stream",
     "text": [
      "[['/Users/adam/Documents/SenseOfTouchResearch/SSN_data/20181005/SSN_095_001.nd2'], ['/Users/adam/Documents/SenseOfTouchResearch/SSN_data/20181008/SSN_096_001.nd2'], ['/Users/adam/Documents/SenseOfTouchResearch/SSN_data/20181008/SSN_097_001.nd2'], ['/Users/adam/Documents/SenseOfTouchResearch/SSN_data/20181008/SSN_098_001.nd2'], ['/Users/adam/Documents/SenseOfTouchResearch/SSN_data/20181008/SSN_099_001.nd2']]\n"
     ]
    }
   ],
   "source": [
    "parentDir = '/Users/adam/Documents/SenseOfTouchResearch/SSN_data/'\n",
    "imageDirs = ['20181005/' , '20181008/']\n",
    "expIDs = ['SSN_095_001','SSN_096_001','SSN_097_001','SSN_098_001','SSN_099_001']\n",
    "    \n",
    "filenames = []\n",
    "for experiment in expIDs:\n",
    "    thisExp = glob.glob(parentDir + '*/' + experiment + '*')\n",
    "    filenames.append(thisExp)\n",
    "print(filenames)"
   ]
  },
  {
   "cell_type": "code",
   "execution_count": null,
   "metadata": {},
   "outputs": [],
   "source": []
  }
 ],
 "metadata": {
  "kernelspec": {
   "display_name": "Python [conda env:spinningDiskAnalysis]",
   "language": "python",
   "name": "conda-env-spinningDiskAnalysis-py"
  },
  "language_info": {
   "codemirror_mode": {
    "name": "ipython",
    "version": 3
   },
   "file_extension": ".py",
   "mimetype": "text/x-python",
   "name": "python",
   "nbconvert_exporter": "python",
   "pygments_lexer": "ipython3",
   "version": "3.6.6"
  }
 },
 "nbformat": 4,
 "nbformat_minor": 2
}
