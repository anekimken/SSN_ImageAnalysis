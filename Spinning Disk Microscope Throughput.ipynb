{
 "cells": [
  {
   "cell_type": "code",
   "execution_count": 1,
   "metadata": {},
   "outputs": [],
   "source": [
    "import datetime as dt\n",
    "import bisect\n",
    "import matplotlib as mpl\n",
    "import matplotlib.pyplot as plt\n",
    "import pandas as pd\n",
    "\n",
    "import gspread\n",
    "from oauth2client.service_account import ServiceAccountCredentials"
   ]
  },
  {
   "cell_type": "code",
   "execution_count": 2,
   "metadata": {},
   "outputs": [],
   "source": [
    "# Access google drive spreadsheet\n",
    "scope = ['https://spreadsheets.google.com/feeds',\n",
    "     'https://www.googleapis.com/auth/drive']\n",
    "credentials = ServiceAccountCredentials.from_json_keyfile_name('SenseOfTouchResearch-e5927f56c4d0.json', scope)\n",
    "c = gspread.authorize(credentials)\n",
    "metadataSpread = c.open_by_key('1LsTdPBOW79XSkk5DJv2ckiVTvpofAOOd_dJL4cgtxBQ')\n",
    "metadataFrame = pd.DataFrame(metadataSpread.sheet1.get_all_records())"
   ]
  },
  {
   "cell_type": "code",
   "execution_count": 3,
   "metadata": {},
   "outputs": [],
   "source": [
    "sdc_lin_lab_start = dt.datetime(2018, 7, 23, 12, 57, 52)\n",
    "sdc_in_shriram_start = dt.datetime(2018, 9, 13, 14, 19, 9)\n",
    "prime95b_camera_start = dt.datetime(2018, 11, 21, 13, 17, 36)\n",
    "now = dt.datetime.now()\n",
    "eras = [sdc_lin_lab_start, sdc_in_shriram_start, prime95b_camera_start]"
   ]
  },
  {
   "cell_type": "code",
   "execution_count": 30,
   "metadata": {},
   "outputs": [
    {
     "name": "stdout",
     "output_type": "stream",
     "text": [
      "k\n",
      "b\n",
      "r\n"
     ]
    },
    {
     "data": {
      "image/png": "[encoded data removed]",
      "text/plain": [
       "<Figure size 1080x612 with 1 Axes>"
      ]
     },
     "metadata": {
      "needs_background": "light"
     },
     "output_type": "display_data"
    }
   ],
   "source": [
    "# helper functions\n",
    "def get_worm_id(trial_id):\n",
    "    worm_id = trial_id[0:7]\n",
    "    \n",
    "    return worm_id\n",
    "\n",
    "def get_date(timestamp):\n",
    "    this_datetime = dt.datetime.strptime(timestamp, '%m/%d/%Y %H:%M:%S')\n",
    "    this_date = this_datetime.date()\n",
    "    \n",
    "    return this_date\n",
    "\n",
    "# add column for worm ID\n",
    "worm_id_frame = metadataFrame['Experiment ID'].apply(get_worm_id)\n",
    "metadataFrame['worm id'] = worm_id_frame\n",
    "\n",
    "# eliminate rows that have duplicate worms\n",
    "metadataFrame.drop_duplicates(subset=['worm id'], inplace=True)\n",
    "\n",
    "# add column for date\n",
    "date_frame = metadataFrame['Timestamp'].apply(get_date)\n",
    "metadataFrame['date'] = date_frame\n",
    "# display(metadataFrame)\n",
    "    \n",
    "# for each date\n",
    "date_list = metadataFrame['date'].tolist()\n",
    "unique_dates = sorted(list(set(date_list)))\n",
    "epi_scope_start_index = bisect.bisect(unique_dates, sdc_lin_lab_start.date())\n",
    "num_worms = {}\n",
    "worm_count = []\n",
    "exp_date = []\n",
    "for this_date in unique_dates:\n",
    "    # get number of unique worm IDs\n",
    "    this_day_worms = metadataFrame.loc[metadataFrame['date'] == this_date]\n",
    "    worm_count.append(len(this_day_worms))\n",
    "        \n",
    "# make a plot\n",
    "bar_width = 2\n",
    "fig, ax = plt.subplots()\n",
    "colors = ['k', 'b', 'r', 'g']\n",
    "for era, color in zip(eras, colors):\n",
    "    # plot everything before image setup changed\n",
    "    print(color)\n",
    "    era_start_index = bisect.bisect(unique_dates, era.date())\n",
    "    this_era_dates = unique_dates[0:era_start_index]\n",
    "    this_era_counts = worm_count[0:era_start_index]\n",
    "    ax.plot_date(this_era_dates, this_era_counts, xdate=True, color=color)\n",
    "#     print(this_era_dates)\n",
    "#     for date, count in zip(unique_dates, worm_count):\n",
    "        \n",
    "#         if date <= era.date():\n",
    "#             era_plot_list[index]([date, count])\n",
    "#             patches[0] = ax.plot_date(date, count, xdate=True, color='b')\n",
    "#         elif date <= eras[1].date():\n",
    "#             patches[1] = ax.plot_date(date, count, xdate=True, color='r')\n",
    "#         elif date <= eras[2].date():\n",
    "#             patches[2] = ax.plot_date(date, count, xdate=True, color='g')\n",
    "#         else:\n",
    "#             patches[3] = ax.plot_date(date, count, xdate=True, color='k')\n",
    "#     elif date <= eras[3].date():\n",
    "#         bar_container = ax.bar(date, worm_count, width=10, color='r')\n",
    "# print(era_plot_list)\n",
    "ax.xaxis_date()\n",
    "ax.xaxis.set_tick_params(rotation=30, labelsize=10)\n",
    "# # ax.legend(patches,['Before spinning disk',\n",
    "# #                    'Spinning disk in Lin lab',\n",
    "# #                    'Spinning disk in Shriram',\n",
    "# #                    'Spinning disk in Shriram with Prime 95B camera'])\n",
    "fig.set_size_inches(15, 8.5)\n"
   ]
  },
  {
   "cell_type": "code",
   "execution_count": null,
   "metadata": {},
   "outputs": [],
   "source": []
  },
  {
   "cell_type": "code",
   "execution_count": null,
   "metadata": {},
   "outputs": [],
   "source": []
  },
  {
   "cell_type": "code",
   "execution_count": null,
   "metadata": {},
   "outputs": [],
   "source": []
  },
  {
   "cell_type": "code",
   "execution_count": null,
   "metadata": {},
   "outputs": [],
   "source": []
  },
  {
   "cell_type": "code",
   "execution_count": null,
   "metadata": {},
   "outputs": [],
   "source": []
  },
  {
   "cell_type": "code",
   "execution_count": null,
   "metadata": {},
   "outputs": [],
   "source": []
  },
  {
   "cell_type": "code",
   "execution_count": null,
   "metadata": {},
   "outputs": [],
   "source": []
  },
  {
   "cell_type": "code",
   "execution_count": null,
   "metadata": {},
   "outputs": [],
   "source": []
  },
  {
   "cell_type": "code",
   "execution_count": null,
   "metadata": {},
   "outputs": [],
   "source": []
  },
  {
   "cell_type": "code",
   "execution_count": null,
   "metadata": {},
   "outputs": [],
   "source": []
  },
  {
   "cell_type": "code",
   "execution_count": null,
   "metadata": {},
   "outputs": [],
   "source": []
  },
  {
   "cell_type": "code",
   "execution_count": null,
   "metadata": {},
   "outputs": [],
   "source": []
  },
  {
   "cell_type": "code",
   "execution_count": null,
   "metadata": {},
   "outputs": [],
   "source": []
  },
  {
   "cell_type": "code",
   "execution_count": null,
   "metadata": {},
   "outputs": [],
   "source": []
  },
  {
   "cell_type": "code",
   "execution_count": null,
   "metadata": {},
   "outputs": [],
   "source": []
  },
  {
   "cell_type": "code",
   "execution_count": null,
   "metadata": {},
   "outputs": [],
   "source": []
  },
  {
   "cell_type": "code",
   "execution_count": null,
   "metadata": {},
   "outputs": [],
   "source": []
  },
  {
   "cell_type": "code",
   "execution_count": null,
   "metadata": {},
   "outputs": [],
   "source": []
  }
 ],
 "metadata": {
  "kernelspec": {
   "display_name": "Python [conda env:spinningDiskAnalysis]",
   "language": "python",
   "name": "conda-env-spinningDiskAnalysis-py"
  },
  "language_info": {
   "codemirror_mode": {
    "name": "ipython",
    "version": 3
   },
   "file_extension": ".py",
   "mimetype": "text/x-python",
   "name": "python",
   "nbconvert_exporter": "python",
   "pygments_lexer": "ipython3",
   "version": "3.6.7"
  }
 },
 "nbformat": 4,
 "nbformat_minor": 2
}
